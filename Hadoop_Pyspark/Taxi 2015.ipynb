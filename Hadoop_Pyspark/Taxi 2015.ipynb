{
 "cells": [
  {
   "cell_type": "code",
   "execution_count": 1,
   "metadata": {},
   "outputs": [],
   "source": [
    "from pyspark.sql import SparkSession\n",
    "import pandas as pd\n",
    "import matplotlib.pyplot as plt"
   ]
  },
  {
   "cell_type": "code",
   "execution_count": 2,
   "metadata": {},
   "outputs": [
    {
     "name": "stdout",
     "output_type": "stream",
     "text": [
      "<SparkContext master=local[*] appName=PySparkShell>\n"
     ]
    }
   ],
   "source": [
    "print(sc)"
   ]
  },
  {
   "cell_type": "code",
   "execution_count": 3,
   "metadata": {},
   "outputs": [
    {
     "name": "stdout",
     "output_type": "stream",
     "text": [
      "2.3.2\n"
     ]
    }
   ],
   "source": [
    "print(sc.version)"
   ]
  },
  {
   "cell_type": "code",
   "execution_count": 4,
   "metadata": {},
   "outputs": [
    {
     "name": "stdout",
     "output_type": "stream",
     "text": [
      "<pyspark.sql.session.SparkSession object at 0x0000021F423EECF8>\n"
     ]
    }
   ],
   "source": [
    "import pyspark # only run after findspark.init()\n",
    "from pyspark.sql import SparkSession\n",
    "spark = SparkSession.builder.appName(\"Taxi 2015\").getOrCreate()\n",
    "\n",
    "# Print my_spark\n",
    "print(spark)"
   ]
  },
  {
   "cell_type": "code",
   "execution_count": 5,
   "metadata": {},
   "outputs": [],
   "source": [
    "\n",
    "taxi=spark.read.csv('hdfs://localhost:9000/taxi/2015_Green_Taxi_Trip_Data.csv',header='true',encoding = 'UTF-8',dateFormat='yyyy-MM-dd HH:mm:ss',inferSchema ='true')"
   ]
  },
  {
   "cell_type": "code",
   "execution_count": 6,
   "metadata": {},
   "outputs": [
    {
     "name": "stdout",
     "output_type": "stream",
     "text": [
      "+--------+--------------------+--------------------+------------------+---------+------------------+------------------+------------------+------------------+---------------+-------------+-----------+-----+-------+----------+------------+---------+---------------------+------------+------------+---------+\n",
      "|vendorid|     pickup_datetime|    dropoff_datetime|Store_and_fwd_flag|rate_code|  Pickup_longitude|   Pickup_latitude| Dropoff_longitude|  Dropoff_latitude|Passenger_count|Trip_distance|Fare_amount|Extra|MTA_tax|Tip_amount|Tolls_amount|Ehail_fee|Improvement_surcharge|Total_amount|Payment_type|Trip_type|\n",
      "+--------+--------------------+--------------------+------------------+---------+------------------+------------------+------------------+------------------+---------------+-------------+-----------+-----+-------+----------+------------+---------+---------------------+------------+------------+---------+\n",
      "|       1|12/14/2015 09:08:...|12/14/2015 09:12:...|                 N|        1|-73.94955444335938|40.802024841308594|-73.95650482177734| 40.80562210083008|              1|          0.4|        4.5|  0.0|    0.5|       0.0|         0.0|     null|                  0.3|         5.3|           1|        1|\n",
      "|       2|04/15/2015 02:06:...|04/15/2015 02:11:...|                 N|        1|-73.80718994140625|40.699310302734375|-73.82533264160156| 40.71184158325195|              1|         1.68|        7.0|  0.5|    0.5|      1.66|         0.0|     null|                  0.3|        9.96|           1|        1|\n",
      "|       2|05/15/2015 03:54:...|05/15/2015 04:00:...|                 N|        1|-73.90336608886719| 40.84333801269531|-73.90147399902344|40.854984283447266|              1|          0.8|        6.0|  0.0|    0.5|       0.0|         0.0|     null|                  0.3|         6.8|           2|        1|\n",
      "|       2|07/07/2015 06:41:...|07/07/2015 07:04:...|                 N|        1| -73.9598388671875| 40.65581512451172|-73.94738006591797| 40.74783706665039|              1|         8.35|       26.0|  0.0|    0.5|       6.7|         0.0|     null|                  0.3|        33.5|           1|        1|\n",
      "|       2|10/06/2015 12:47:...|10/06/2015 12:56:...|                 N|        1|-73.77069091796875|40.763118743896484| -73.7446517944336| 40.73613357543945|              1|         2.73|       10.5|  0.5|    0.5|       0.0|         0.0|     null|                  0.3|        11.8|           2|        1|\n",
      "+--------+--------------------+--------------------+------------------+---------+------------------+------------------+------------------+------------------+---------------+-------------+-----------+-----+-------+----------+------------+---------+---------------------+------------+------------+---------+\n",
      "only showing top 5 rows\n",
      "\n"
     ]
    }
   ],
   "source": [
    "taxi.show(5)"
   ]
  },
  {
   "cell_type": "code",
   "execution_count": 7,
   "metadata": {},
   "outputs": [
    {
     "data": {
      "text/plain": [
       "19233765"
      ]
     },
     "execution_count": 7,
     "metadata": {},
     "output_type": "execute_result"
    }
   ],
   "source": [
    "taxi.count()"
   ]
  },
  {
   "cell_type": "code",
   "execution_count": 8,
   "metadata": {},
   "outputs": [
    {
     "data": {
      "text/plain": [
       "(21,\n",
       " ['vendorid',\n",
       "  'pickup_datetime',\n",
       "  'dropoff_datetime',\n",
       "  'Store_and_fwd_flag',\n",
       "  'rate_code',\n",
       "  'Pickup_longitude',\n",
       "  'Pickup_latitude',\n",
       "  'Dropoff_longitude',\n",
       "  'Dropoff_latitude',\n",
       "  'Passenger_count',\n",
       "  'Trip_distance',\n",
       "  'Fare_amount',\n",
       "  'Extra',\n",
       "  'MTA_tax',\n",
       "  'Tip_amount',\n",
       "  'Tolls_amount',\n",
       "  'Ehail_fee',\n",
       "  'Improvement_surcharge',\n",
       "  'Total_amount',\n",
       "  'Payment_type',\n",
       "  'Trip_type'])"
      ]
     },
     "execution_count": 8,
     "metadata": {},
     "output_type": "execute_result"
    }
   ],
   "source": [
    "len(taxi.columns),taxi.columns"
   ]
  },
  {
   "cell_type": "code",
   "execution_count": 9,
   "metadata": {},
   "outputs": [
    {
     "name": "stdout",
     "output_type": "stream",
     "text": [
      "root\n",
      " |-- vendorid: integer (nullable = true)\n",
      " |-- pickup_datetime: string (nullable = true)\n",
      " |-- dropoff_datetime: string (nullable = true)\n",
      " |-- Store_and_fwd_flag: string (nullable = true)\n",
      " |-- rate_code: integer (nullable = true)\n",
      " |-- Pickup_longitude: double (nullable = true)\n",
      " |-- Pickup_latitude: double (nullable = true)\n",
      " |-- Dropoff_longitude: double (nullable = true)\n",
      " |-- Dropoff_latitude: double (nullable = true)\n",
      " |-- Passenger_count: integer (nullable = true)\n",
      " |-- Trip_distance: double (nullable = true)\n",
      " |-- Fare_amount: double (nullable = true)\n",
      " |-- Extra: double (nullable = true)\n",
      " |-- MTA_tax: double (nullable = true)\n",
      " |-- Tip_amount: double (nullable = true)\n",
      " |-- Tolls_amount: double (nullable = true)\n",
      " |-- Ehail_fee: string (nullable = true)\n",
      " |-- Improvement_surcharge: double (nullable = true)\n",
      " |-- Total_amount: double (nullable = true)\n",
      " |-- Payment_type: integer (nullable = true)\n",
      " |-- Trip_type: integer (nullable = true)\n",
      "\n"
     ]
    }
   ],
   "source": [
    "taxi.printSchema()"
   ]
  },
  {
   "cell_type": "code",
   "execution_count": 10,
   "metadata": {},
   "outputs": [],
   "source": [
    "summary=taxi.describe()"
   ]
  },
  {
   "cell_type": "code",
   "execution_count": 11,
   "metadata": {},
   "outputs": [
    {
     "name": "stdout",
     "output_type": "stream",
     "text": [
      "+-------+-------------------+--------------------+--------------------+------------------+------------------+-------------------+------------------+-------------------+------------------+------------------+------------------+------------------+-------------------+-------------------+-----------------+-------------------+---------+---------------------+------------------+------------------+------------------+\n",
      "|summary|           vendorid|     pickup_datetime|    dropoff_datetime|Store_and_fwd_flag|         rate_code|   Pickup_longitude|   Pickup_latitude|  Dropoff_longitude|  Dropoff_latitude|   Passenger_count|     Trip_distance|       Fare_amount|              Extra|            MTA_tax|       Tip_amount|       Tolls_amount|Ehail_fee|Improvement_surcharge|      Total_amount|      Payment_type|         Trip_type|\n",
      "+-------+-------------------+--------------------+--------------------+------------------+------------------+-------------------+------------------+-------------------+------------------+------------------+------------------+------------------+-------------------+-------------------+-----------------+-------------------+---------+---------------------+------------------+------------------+------------------+\n",
      "|  count|           19233765|            19233765|            19233765|          19233765|          19233765|           19233765|          19233765|           19233765|          19233765|          19233765|          19233765|          19233765|           19233765|           19233765|         19233765|           19233765|        0|             19233765|          19233765|          19233765|          19233693|\n",
      "|   mean| 1.7810242560413938|                null|                null|              null|1.0995576269128795|  -73.8287285269631|40.690854690128674| -73.83246755015698|40.691539556501056|1.3748811530139835|2.8800138896363654|12.330971171790846|0.35235051847623167|0.48634938193328237|1.214483860543748|0.11326600018247704|     null|   0.2907562247914853|14.840646674829529|1.5482069683184754| 1.023003954570763|\n",
      "| stddev|0.41355214472701773|                null|                null|              null|0.6464661826108637| 2.8049667375507985|1.5464992565097133|  2.740434987832242| 1.510833335778518|1.0493440812016974|3.0172422439447026|10.718107966291404|0.36597137856499473|0.08921556418010927|3.342660620148237| 1.1486140422048605|     null|  0.05369730461369096|226.08079875501258|0.5235403890744192|0.1499158891291375|\n",
      "|    min|                  1|01/01/2015 01:00:...|01/01/2015 01:00:...|                 N|                 1|-122.39962005615234|               0.0|-122.39962768554688|               0.0|                 0|               0.0|            -499.0|               -1.0|              -49.5|           -100.0|             -18.16|     null|                 -0.3|            -499.0|                 1|                 1|\n",
      "|    max|                  2|12/31/2015 12:59:...|12/31/2015 12:59:...|                 Y|                99|                0.0| 43.41587829589844|                0.0| 45.09432601928711|                 9|             830.4|            8010.5|               60.0|              53.54|          2017.73|             1226.1|     null|                  0.3|         989970.39|                 5|                 2|\n",
      "+-------+-------------------+--------------------+--------------------+------------------+------------------+-------------------+------------------+-------------------+------------------+------------------+------------------+------------------+-------------------+-------------------+-----------------+-------------------+---------+---------------------+------------------+------------------+------------------+\n",
      "\n"
     ]
    }
   ],
   "source": [
    "summary.show()"
   ]
  },
  {
   "cell_type": "code",
   "execution_count": 12,
   "metadata": {},
   "outputs": [],
   "source": [
    "sum=summary.toPandas()"
   ]
  },
  {
   "cell_type": "code",
   "execution_count": 13,
   "metadata": {},
   "outputs": [
    {
     "name": "stdout",
     "output_type": "stream",
     "text": [
      "  summary             vendorid         pickup_datetime  \\\n",
      "0   count             19233765                19233765   \n",
      "1    mean   1.7810242560413938                    None   \n",
      "2  stddev  0.41355214472701773                    None   \n",
      "3     min                    1  01/01/2015 01:00:00 AM   \n",
      "4     max                    2  12/31/2015 12:59:59 PM   \n",
      "\n",
      "         dropoff_datetime Store_and_fwd_flag           rate_code  \\\n",
      "0                19233765           19233765            19233765   \n",
      "1                    None               None  1.0995576269128795   \n",
      "2                    None               None  0.6464661826108637   \n",
      "3  01/01/2015 01:00:00 AM                  N                   1   \n",
      "4  12/31/2015 12:59:59 PM                  Y                  99   \n",
      "\n",
      "      Pickup_longitude     Pickup_latitude    Dropoff_longitude  \\\n",
      "0             19233765            19233765             19233765   \n",
      "1    -73.8287285269631  40.690854690128674   -73.83246755015698   \n",
      "2   2.8049667375507985  1.5464992565097133    2.740434987832242   \n",
      "3  -122.39962005615234                 0.0  -122.39962768554688   \n",
      "4                  0.0   43.41587829589844                  0.0   \n",
      "\n",
      "     Dropoff_latitude         ...                 Fare_amount  \\\n",
      "0            19233765         ...                    19233765   \n",
      "1  40.691539556501056         ...          12.330971171790846   \n",
      "2   1.510833335778518         ...          10.718107966291404   \n",
      "3                 0.0         ...                      -499.0   \n",
      "4   45.09432601928711         ...                      8010.5   \n",
      "\n",
      "                 Extra              MTA_tax         Tip_amount  \\\n",
      "0             19233765             19233765           19233765   \n",
      "1  0.35235051847623167  0.48634938193328237  1.214483860543748   \n",
      "2  0.36597137856499473  0.08921556418010927  3.342660620148237   \n",
      "3                 -1.0                -49.5             -100.0   \n",
      "4                 60.0                53.54            2017.73   \n",
      "\n",
      "          Tolls_amount Ehail_fee Improvement_surcharge        Total_amount  \\\n",
      "0             19233765         0              19233765            19233765   \n",
      "1  0.11326600018247704      None    0.2907562247914853  14.840646674829529   \n",
      "2   1.1486140422048605      None   0.05369730461369096  226.08079875501258   \n",
      "3               -18.16      None                  -0.3              -499.0   \n",
      "4               1226.1      None                   0.3           989970.39   \n",
      "\n",
      "         Payment_type           Trip_type  \n",
      "0            19233765            19233693  \n",
      "1  1.5482069683184754   1.023003954570763  \n",
      "2  0.5235403890744192  0.1499158891291375  \n",
      "3                   1                   1  \n",
      "4                   5                   2  \n",
      "\n",
      "[5 rows x 22 columns]\n"
     ]
    }
   ],
   "source": [
    "print(sum)"
   ]
  },
  {
   "cell_type": "markdown",
   "metadata": {},
   "source": [
    "## Get the count data for VendorID and create a pie chart"
   ]
  },
  {
   "cell_type": "code",
   "execution_count": 14,
   "metadata": {},
   "outputs": [
    {
     "name": "stdout",
     "output_type": "stream",
     "text": [
      "+--------+--------+\n",
      "|vendorid|   count|\n",
      "+--------+--------+\n",
      "|       1| 4211728|\n",
      "|       2|15022037|\n",
      "+--------+--------+\n",
      "\n"
     ]
    }
   ],
   "source": [
    "#show the count in spark dataframe\n",
    "taxi.groupby('vendorid').count().show()"
   ]
  },
  {
   "cell_type": "code",
   "execution_count": 15,
   "metadata": {},
   "outputs": [],
   "source": [
    "#convert to pandas dataframe\n",
    "vendor=taxi.groupby('vendorid').count()\n",
    "vendor=vendor.toPandas()"
   ]
  },
  {
   "cell_type": "code",
   "execution_count": 16,
   "metadata": {},
   "outputs": [
    {
     "name": "stdout",
     "output_type": "stream",
     "text": [
      "   vendorid     count\n",
      "0         1   4211728\n",
      "1         2  15022037\n"
     ]
    }
   ],
   "source": [
    "print(vendor)"
   ]
  },
  {
   "cell_type": "code",
   "execution_count": 17,
   "metadata": {},
   "outputs": [
    {
     "data": {
      "text/html": [
       "<script>requirejs.config({paths: { 'plotly': ['https://cdn.plot.ly/plotly-latest.min']},});if(!window.Plotly) {{require(['plotly'],function(plotly) {window.Plotly=plotly;});}}</script>"
      ],
      "text/vnd.plotly.v1+html": [
       "<script>requirejs.config({paths: { 'plotly': ['https://cdn.plot.ly/plotly-latest.min']},});if(!window.Plotly) {{require(['plotly'],function(plotly) {window.Plotly=plotly;});}}</script>"
      ]
     },
     "metadata": {},
     "output_type": "display_data"
    },
    {
     "data": {
      "application/vnd.plotly.v1+json": {
       "data": [
        {
         "colorscale": [
          [
           0,
           "#00083e"
          ],
          [
           0.5,
           "#ededee"
          ],
          [
           1,
           "#ffffff"
          ]
         ],
         "hoverinfo": "none",
         "opacity": 0.75,
         "showscale": false,
         "type": "heatmap",
         "uid": "affba366-e935-11e8-8152-c8d3ffcdad54",
         "z": [
          [
           0,
           0
          ],
          [
           0.5,
           0.5
          ],
          [
           1,
           1
          ]
         ]
        }
       ],
       "layout": {
        "annotations": [
         {
          "align": "left",
          "font": {
           "color": "#ffffff"
          },
          "showarrow": false,
          "text": "<b>vendorid</b>",
          "x": -0.45,
          "xanchor": "left",
          "xref": "x",
          "y": 0,
          "yref": "y"
         },
         {
          "align": "left",
          "font": {
           "color": "#ffffff"
          },
          "showarrow": false,
          "text": "<b>count</b>",
          "x": 0.55,
          "xanchor": "left",
          "xref": "x",
          "y": 0,
          "yref": "y"
         },
         {
          "align": "left",
          "font": {
           "color": "#000000"
          },
          "showarrow": false,
          "text": "1",
          "x": -0.45,
          "xanchor": "left",
          "xref": "x",
          "y": 1,
          "yref": "y"
         },
         {
          "align": "left",
          "font": {
           "color": "#000000"
          },
          "showarrow": false,
          "text": "4211728",
          "x": 0.55,
          "xanchor": "left",
          "xref": "x",
          "y": 1,
          "yref": "y"
         },
         {
          "align": "left",
          "font": {
           "color": "#000000"
          },
          "showarrow": false,
          "text": "2",
          "x": -0.45,
          "xanchor": "left",
          "xref": "x",
          "y": 2,
          "yref": "y"
         },
         {
          "align": "left",
          "font": {
           "color": "#000000"
          },
          "showarrow": false,
          "text": "15022037",
          "x": 0.55,
          "xanchor": "left",
          "xref": "x",
          "y": 2,
          "yref": "y"
         }
        ],
        "height": 140,
        "margin": {
         "b": 0,
         "l": 0,
         "r": 0,
         "t": 0
        },
        "xaxis": {
         "dtick": 1,
         "gridwidth": 2,
         "showticklabels": false,
         "tick0": -0.5,
         "ticks": "",
         "zeroline": false
        },
        "yaxis": {
         "autorange": "reversed",
         "dtick": 1,
         "gridwidth": 2,
         "showticklabels": false,
         "tick0": 0.5,
         "ticks": "",
         "zeroline": false
        }
       }
      },
      "text/html": [
       "<div id=\"d63f2928-d585-4b5e-9740-23060ce020a8\" style=\"height: 140px; width: 100%;\" class=\"plotly-graph-div\"></div><script type=\"text/javascript\">require([\"plotly\"], function(Plotly) { window.PLOTLYENV=window.PLOTLYENV || {};window.PLOTLYENV.BASE_URL=\"https://plot.ly\";Plotly.newPlot(\"d63f2928-d585-4b5e-9740-23060ce020a8\", [{\"colorscale\": [[0, \"#00083e\"], [0.5, \"#ededee\"], [1, \"#ffffff\"]], \"hoverinfo\": \"none\", \"opacity\": 0.75, \"showscale\": false, \"z\": [[0, 0], [0.5, 0.5], [1, 1]], \"type\": \"heatmap\", \"uid\": \"affba366-e935-11e8-8152-c8d3ffcdad54\"}], {\"annotations\": [{\"align\": \"left\", \"font\": {\"color\": \"#ffffff\"}, \"showarrow\": false, \"text\": \"<b>vendorid</b>\", \"x\": -0.45, \"xanchor\": \"left\", \"xref\": \"x\", \"y\": 0, \"yref\": \"y\"}, {\"align\": \"left\", \"font\": {\"color\": \"#ffffff\"}, \"showarrow\": false, \"text\": \"<b>count</b>\", \"x\": 0.55, \"xanchor\": \"left\", \"xref\": \"x\", \"y\": 0, \"yref\": \"y\"}, {\"align\": \"left\", \"font\": {\"color\": \"#000000\"}, \"showarrow\": false, \"text\": \"1\", \"x\": -0.45, \"xanchor\": \"left\", \"xref\": \"x\", \"y\": 1, \"yref\": \"y\"}, {\"align\": \"left\", \"font\": {\"color\": \"#000000\"}, \"showarrow\": false, \"text\": \"4211728\", \"x\": 0.55, \"xanchor\": \"left\", \"xref\": \"x\", \"y\": 1, \"yref\": \"y\"}, {\"align\": \"left\", \"font\": {\"color\": \"#000000\"}, \"showarrow\": false, \"text\": \"2\", \"x\": -0.45, \"xanchor\": \"left\", \"xref\": \"x\", \"y\": 2, \"yref\": \"y\"}, {\"align\": \"left\", \"font\": {\"color\": \"#000000\"}, \"showarrow\": false, \"text\": \"15022037\", \"x\": 0.55, \"xanchor\": \"left\", \"xref\": \"x\", \"y\": 2, \"yref\": \"y\"}], \"height\": 140, \"margin\": {\"b\": 0, \"l\": 0, \"r\": 0, \"t\": 0}, \"xaxis\": {\"dtick\": 1, \"gridwidth\": 2, \"showticklabels\": false, \"tick0\": -0.5, \"ticks\": \"\", \"zeroline\": false}, \"yaxis\": {\"autorange\": \"reversed\", \"dtick\": 1, \"gridwidth\": 2, \"showticklabels\": false, \"tick0\": 0.5, \"ticks\": \"\", \"zeroline\": false}}, {\"showLink\": true, \"linkText\": \"Export to plot.ly\"})});</script>"
      ],
      "text/vnd.plotly.v1+html": [
       "<div id=\"d63f2928-d585-4b5e-9740-23060ce020a8\" style=\"height: 140px; width: 100%;\" class=\"plotly-graph-div\"></div><script type=\"text/javascript\">require([\"plotly\"], function(Plotly) { window.PLOTLYENV=window.PLOTLYENV || {};window.PLOTLYENV.BASE_URL=\"https://plot.ly\";Plotly.newPlot(\"d63f2928-d585-4b5e-9740-23060ce020a8\", [{\"colorscale\": [[0, \"#00083e\"], [0.5, \"#ededee\"], [1, \"#ffffff\"]], \"hoverinfo\": \"none\", \"opacity\": 0.75, \"showscale\": false, \"z\": [[0, 0], [0.5, 0.5], [1, 1]], \"type\": \"heatmap\", \"uid\": \"affba366-e935-11e8-8152-c8d3ffcdad54\"}], {\"annotations\": [{\"align\": \"left\", \"font\": {\"color\": \"#ffffff\"}, \"showarrow\": false, \"text\": \"<b>vendorid</b>\", \"x\": -0.45, \"xanchor\": \"left\", \"xref\": \"x\", \"y\": 0, \"yref\": \"y\"}, {\"align\": \"left\", \"font\": {\"color\": \"#ffffff\"}, \"showarrow\": false, \"text\": \"<b>count</b>\", \"x\": 0.55, \"xanchor\": \"left\", \"xref\": \"x\", \"y\": 0, \"yref\": \"y\"}, {\"align\": \"left\", \"font\": {\"color\": \"#000000\"}, \"showarrow\": false, \"text\": \"1\", \"x\": -0.45, \"xanchor\": \"left\", \"xref\": \"x\", \"y\": 1, \"yref\": \"y\"}, {\"align\": \"left\", \"font\": {\"color\": \"#000000\"}, \"showarrow\": false, \"text\": \"4211728\", \"x\": 0.55, \"xanchor\": \"left\", \"xref\": \"x\", \"y\": 1, \"yref\": \"y\"}, {\"align\": \"left\", \"font\": {\"color\": \"#000000\"}, \"showarrow\": false, \"text\": \"2\", \"x\": -0.45, \"xanchor\": \"left\", \"xref\": \"x\", \"y\": 2, \"yref\": \"y\"}, {\"align\": \"left\", \"font\": {\"color\": \"#000000\"}, \"showarrow\": false, \"text\": \"15022037\", \"x\": 0.55, \"xanchor\": \"left\", \"xref\": \"x\", \"y\": 2, \"yref\": \"y\"}], \"height\": 140, \"margin\": {\"b\": 0, \"l\": 0, \"r\": 0, \"t\": 0}, \"xaxis\": {\"dtick\": 1, \"gridwidth\": 2, \"showticklabels\": false, \"tick0\": -0.5, \"ticks\": \"\", \"zeroline\": false}, \"yaxis\": {\"autorange\": \"reversed\", \"dtick\": 1, \"gridwidth\": 2, \"showticklabels\": false, \"tick0\": 0.5, \"ticks\": \"\", \"zeroline\": false}}, {\"showLink\": true, \"linkText\": \"Export to plot.ly\"})});</script>"
      ]
     },
     "metadata": {},
     "output_type": "display_data"
    }
   ],
   "source": [
    "#plot using plotly\n",
    "from plotly import __version__\n",
    "from plotly.offline import download_plotlyjs, init_notebook_mode, plot, iplot\n",
    "import plotly.graph_objs as go\n",
    "import plotly.figure_factory as ff\n",
    "init_notebook_mode(connected=True)\n",
    "\n",
    "\n",
    "table = ff.create_table(vendor)\n",
    "plot(table, filename='vendor_table.html')\n",
    "iplot(table, filename='vendor_table')"
   ]
  },
  {
   "cell_type": "code",
   "execution_count": 18,
   "metadata": {},
   "outputs": [
    {
     "name": "stdout",
     "output_type": "stream",
     "text": [
      "0     4211728\n",
      "1    15022037\n",
      "Name: count, dtype: int64\n"
     ]
    }
   ],
   "source": [
    "print(vendor['count'])"
   ]
  },
  {
   "cell_type": "code",
   "execution_count": 19,
   "metadata": {},
   "outputs": [
    {
     "data": {
      "image/png": "[encoded data removed]",
      "text/plain": [
       "<matplotlib.figure.Figure at 0x1c7256930b8>"
      ]
     },
     "metadata": {},
     "output_type": "display_data"
    }
   ],
   "source": [
    "#create pie chart in matplot lib\n",
    "\n",
    "labels=['Creative Mobile Technologies, LLC','VeriFone Inc']\n",
    "sizes =vendor['count']\n",
    "fig1, ax1 = plt.subplots()\n",
    "ax1.pie(sizes,labels=labels,autopct='%1.1f%%',\n",
    "        shadow=True, startangle=90)\n",
    "ax1.axis('equal')  # Equal aspect ratio ensures that pie is drawn as a circle.\n",
    "\n",
    "plt.show()"
   ]
  },
  {
   "cell_type": "code",
   "execution_count": 20,
   "metadata": {},
   "outputs": [
    {
     "data": {
      "text/html": [
       "<script>requirejs.config({paths: { 'plotly': ['https://cdn.plot.ly/plotly-latest.min']},});if(!window.Plotly) {{require(['plotly'],function(plotly) {window.Plotly=plotly;});}}</script>"
      ],
      "text/vnd.plotly.v1+html": [
       "<script>requirejs.config({paths: { 'plotly': ['https://cdn.plot.ly/plotly-latest.min']},});if(!window.Plotly) {{require(['plotly'],function(plotly) {window.Plotly=plotly;});}}</script>"
      ]
     },
     "metadata": {},
     "output_type": "display_data"
    },
    {
     "data": {
      "application/vnd.plotly.v1+json": {
       "data": [
        {
         "labels": [
          "Creative Mobile Technologies, LLC",
          "VeriFone Inc"
         ],
         "type": "pie",
         "uid": "b7801f8a-e935-11e8-8cd3-c8d3ffcdad54",
         "values": [
          4211728,
          15022037
         ]
        }
       ],
       "layout": {
        "title": "Pie chart of vendor count"
       }
      },
      "text/html": [
       "<div id=\"7cc38aab-1c99-4989-b614-fc2d3f7fdc6b\" style=\"height: 525px; width: 100%;\" class=\"plotly-graph-div\"></div><script type=\"text/javascript\">require([\"plotly\"], function(Plotly) { window.PLOTLYENV=window.PLOTLYENV || {};window.PLOTLYENV.BASE_URL=\"https://plot.ly\";Plotly.newPlot(\"7cc38aab-1c99-4989-b614-fc2d3f7fdc6b\", [{\"labels\": [\"Creative Mobile Technologies, LLC\", \"VeriFone Inc\"], \"values\": [4211728, 15022037], \"type\": \"pie\", \"uid\": \"b7801f8a-e935-11e8-8cd3-c8d3ffcdad54\"}], {\"title\": \"Pie chart of vendor count\"}, {\"showLink\": true, \"linkText\": \"Export to plot.ly\"})});</script>"
      ],
      "text/vnd.plotly.v1+html": [
       "<div id=\"7cc38aab-1c99-4989-b614-fc2d3f7fdc6b\" style=\"height: 525px; width: 100%;\" class=\"plotly-graph-div\"></div><script type=\"text/javascript\">require([\"plotly\"], function(Plotly) { window.PLOTLYENV=window.PLOTLYENV || {};window.PLOTLYENV.BASE_URL=\"https://plot.ly\";Plotly.newPlot(\"7cc38aab-1c99-4989-b614-fc2d3f7fdc6b\", [{\"labels\": [\"Creative Mobile Technologies, LLC\", \"VeriFone Inc\"], \"values\": [4211728, 15022037], \"type\": \"pie\", \"uid\": \"b7801f8a-e935-11e8-8cd3-c8d3ffcdad54\"}], {\"title\": \"Pie chart of vendor count\"}, {\"showLink\": true, \"linkText\": \"Export to plot.ly\"})});</script>"
      ]
     },
     "metadata": {},
     "output_type": "display_data"
    }
   ],
   "source": [
    "#create pie chart in plotly\n",
    "#plot using plotly\n",
    "from plotly import __version__\n",
    "from plotly.offline import download_plotlyjs, init_notebook_mode, plot, iplot\n",
    "import plotly.graph_objs as go\n",
    "import plotly.figure_factory as ff\n",
    "init_notebook_mode(connected=True)\n",
    "\n",
    "labels=['Creative Mobile Technologies, LLC','VeriFone Inc']\n",
    "sizes =vendor['count']\n",
    "\n",
    "trace = go.Pie(labels=labels, values=sizes)\n",
    "\n",
    "layout = go.Layout(title='Pie chart of vendor count')\n",
    "fig = go.Figure(data=[trace], layout=layout)\n",
    "\n",
    "plot(fig, filename='vendor_pie.html')\n",
    "iplot(fig, filename='vendor_pie')"
   ]
  },
  {
   "cell_type": "markdown",
   "metadata": {},
   "source": [
    "## Get the count data for monthly trend and plot a line chart"
   ]
  },
  {
   "cell_type": "code",
   "execution_count": 21,
   "metadata": {},
   "outputs": [
    {
     "name": "stdout",
     "output_type": "stream",
     "text": [
      "+-------------------+\n",
      "|          Date_time|\n",
      "+-------------------+\n",
      "|2015-12-14 09:08:20|\n",
      "|2015-04-15 02:06:42|\n",
      "|2015-05-15 15:54:43|\n",
      "|2015-07-07 06:41:03|\n",
      "|2015-10-06 00:47:59|\n",
      "+-------------------+\n",
      "only showing top 5 rows\n",
      "\n"
     ]
    }
   ],
   "source": [
    "#convert pickup_datetime into datetime\n",
    "from datetime import datetime\n",
    "from pyspark.sql.functions import col,udf\n",
    "from pyspark.sql.types import TimestampType\n",
    "from pyspark.sql.functions import date_format\n",
    "\n",
    "myfunc =  udf(lambda x: datetime.strptime(x, '%m/%d/%Y %I:%M:%S %p'), TimestampType())\n",
    "df = taxi.withColumn('Date_time', myfunc(col('pickup_datetime'))).drop('pickup_datetime')\n",
    "df.select(df['Date_time']).show(5)\n"
   ]
  },
  {
   "cell_type": "code",
   "execution_count": 22,
   "metadata": {},
   "outputs": [],
   "source": [
    "from pyspark.sql.functions import month\n",
    "monthdf = df.withColumn('Month',month('Date_time'))"
   ]
  },
  {
   "cell_type": "code",
   "execution_count": 23,
   "metadata": {},
   "outputs": [
    {
     "name": "stdout",
     "output_type": "stream",
     "text": [
      "+-----+-------+\n",
      "|Month|  count|\n",
      "+-----+-------+\n",
      "|   12|1608290|\n",
      "|    1|1508501|\n",
      "|    6|1638868|\n",
      "|    3|1722574|\n",
      "|    5|1786848|\n",
      "|    9|1494926|\n",
      "|    4|1664394|\n",
      "|    8|1532343|\n",
      "|    7|1541671|\n",
      "|   10|1630536|\n",
      "|   11|1529984|\n",
      "|    2|1574830|\n",
      "+-----+-------+\n",
      "\n"
     ]
    }
   ],
   "source": [
    "monthdf.select(\"Month\").groupBy(\"Month\").count().show()"
   ]
  },
  {
   "cell_type": "code",
   "execution_count": 24,
   "metadata": {},
   "outputs": [
    {
     "name": "stdout",
     "output_type": "stream",
     "text": [
      "    Month    count\n",
      "0      12  1608290\n",
      "1       1  1508501\n",
      "2       6  1638868\n",
      "3       3  1722574\n",
      "4       5  1786848\n",
      "5       9  1494926\n",
      "6       4  1664394\n",
      "7       8  1532343\n",
      "8       7  1541671\n",
      "9      10  1630536\n",
      "10     11  1529984\n",
      "11      2  1574830\n"
     ]
    }
   ],
   "source": [
    "#convert to pandas\n",
    "monthCounts=monthdf.select(\"Month\").groupBy(\"Month\").count()\n",
    "monthCounts=monthCounts.toPandas()\n",
    "print(monthCounts)"
   ]
  },
  {
   "cell_type": "code",
   "execution_count": 25,
   "metadata": {},
   "outputs": [
    {
     "data": {
      "image/png": "[encoded data removed]",
      "text/plain": [
       "<matplotlib.figure.Figure at 0x1c7256a5898>"
      ]
     },
     "metadata": {},
     "output_type": "display_data"
    }
   ],
   "source": [
    "#plot using matplotlib\n",
    "from pyspark.sql.functions import month\n",
    "monthdf = df.withColumn('Month',month('Date_time'))\n",
    "monthCounts = monthdf.select(\"Month\").groupBy(\"Month\").count()\n",
    "monthCounts = monthCounts.collect()\n",
    "months = [item[0] for item in monthCounts]\n",
    "count = [item[1] for item in monthCounts]\n",
    "rides_per_month = {\"month\":months, \"rides_count\": count}\n",
    "rides_per_month = pd.DataFrame(rides_per_month)\n",
    "rides_per_month = rides_per_month.sort_values(by = \"month\")\n",
    "rides_per_month.plot(figsize = (20,10), kind = \"line\", x = \"month\", y = \"rides_count\", \n",
    "                      color = \"red\", linewidth = 8, legend = False)\n",
    "plt.xlabel(\"Month\", fontsize = 18)\n",
    "plt.ylabel(\"Number of Rides\", fontsize = 18)\n",
    "plt.title(\"Number of Rides Per Month\", fontsize = 28)\n",
    "plt.xticks(size = 18)\n",
    "plt.yticks(size = 18)\n",
    "plt.show()"
   ]
  },
  {
   "cell_type": "code",
   "execution_count": 26,
   "metadata": {},
   "outputs": [
    {
     "data": {
      "text/html": [
       "<script>requirejs.config({paths: { 'plotly': ['https://cdn.plot.ly/plotly-latest.min']},});if(!window.Plotly) {{require(['plotly'],function(plotly) {window.Plotly=plotly;});}}</script>"
      ],
      "text/vnd.plotly.v1+html": [
       "<script>requirejs.config({paths: { 'plotly': ['https://cdn.plot.ly/plotly-latest.min']},});if(!window.Plotly) {{require(['plotly'],function(plotly) {window.Plotly=plotly;});}}</script>"
      ]
     },
     "metadata": {},
     "output_type": "display_data"
    },
    {
     "data": {
      "application/vnd.plotly.v1+json": {
       "data": [
        {
         "type": "scatter",
         "uid": "43b2db88-e937-11e8-a0ba-c8d3ffcdad54",
         "x": [
          1,
          2,
          3,
          4,
          5,
          6,
          7,
          8,
          9,
          10,
          11,
          12
         ],
         "y": [
          1508501,
          1574830,
          1722574,
          1664394,
          1786848,
          1638868,
          1541671,
          1532343,
          1494926,
          1630536,
          1529984,
          1608290
         ]
        }
       ],
       "layout": {
        "title": "Number of Rides Per Month"
       }
      },
      "text/html": [
       "<div id=\"caa843c4-5c1d-4328-aff7-5d58c203e627\" style=\"height: 525px; width: 100%;\" class=\"plotly-graph-div\"></div><script type=\"text/javascript\">require([\"plotly\"], function(Plotly) { window.PLOTLYENV=window.PLOTLYENV || {};window.PLOTLYENV.BASE_URL=\"https://plot.ly\";Plotly.newPlot(\"caa843c4-5c1d-4328-aff7-5d58c203e627\", [{\"x\": [1, 2, 3, 4, 5, 6, 7, 8, 9, 10, 11, 12], \"y\": [1508501, 1574830, 1722574, 1664394, 1786848, 1638868, 1541671, 1532343, 1494926, 1630536, 1529984, 1608290], \"type\": \"scatter\", \"uid\": \"43b2db88-e937-11e8-a0ba-c8d3ffcdad54\"}], {\"title\": \"Number of Rides Per Month\"}, {\"showLink\": true, \"linkText\": \"Export to plot.ly\"})});</script>"
      ],
      "text/vnd.plotly.v1+html": [
       "<div id=\"caa843c4-5c1d-4328-aff7-5d58c203e627\" style=\"height: 525px; width: 100%;\" class=\"plotly-graph-div\"></div><script type=\"text/javascript\">require([\"plotly\"], function(Plotly) { window.PLOTLYENV=window.PLOTLYENV || {};window.PLOTLYENV.BASE_URL=\"https://plot.ly\";Plotly.newPlot(\"caa843c4-5c1d-4328-aff7-5d58c203e627\", [{\"x\": [1, 2, 3, 4, 5, 6, 7, 8, 9, 10, 11, 12], \"y\": [1508501, 1574830, 1722574, 1664394, 1786848, 1638868, 1541671, 1532343, 1494926, 1630536, 1529984, 1608290], \"type\": \"scatter\", \"uid\": \"43b2db88-e937-11e8-a0ba-c8d3ffcdad54\"}], {\"title\": \"Number of Rides Per Month\"}, {\"showLink\": true, \"linkText\": \"Export to plot.ly\"})});</script>"
      ]
     },
     "metadata": {},
     "output_type": "display_data"
    }
   ],
   "source": [
    "#plot using plotly\n",
    "from plotly import __version__\n",
    "from plotly.offline import download_plotlyjs, init_notebook_mode, plot, iplot\n",
    "import plotly.graph_objs as go\n",
    "init_notebook_mode(connected=True)\n",
    "\n",
    "\n",
    "months = [item[0] for item in monthCounts]\n",
    "count = [item[1] for item in monthCounts]\n",
    "rides_per_month = {\"month\":months, \"rides_count\": count}\n",
    "rides_per_month = pd.DataFrame(rides_per_month)\n",
    "rides_per_month = rides_per_month.sort_values(by = \"month\")\n",
    "rides_per_month.head()\n",
    "\n",
    "data = [\n",
    "    go.Scatter(\n",
    "        x=rides_per_month['month'], # assign x as the dataframe column 'x'\n",
    "        y=rides_per_month['rides_count']\n",
    "    )\n",
    "]\n",
    "\n",
    "layout = go.Layout(title='Number of Rides Per Month')\n",
    "fig = go.Figure(data=data, layout=layout)\n",
    "\n",
    "plot(fig, filename='basic-line.html')\n",
    "iplot(fig, filename='basic-line')"
   ]
  },
  {
   "cell_type": "markdown",
   "metadata": {},
   "source": [
    "## Get the count data for dailytrend and plot a line chart"
   ]
  },
  {
   "cell_type": "code",
   "execution_count": 27,
   "metadata": {},
   "outputs": [],
   "source": [
    "from pyspark.sql.functions import dayofweek\n",
    "from pyspark.sql.types import IntegerType\n",
    "from datetime import datetime\n",
    "from pyspark.sql.functions import col,udf\n",
    "from pyspark.sql.types import TimestampType\n",
    "from pyspark.sql.functions import date_format\n",
    "\n",
    "daydf = df.select('Date_time', date_format('Date_time', 'u').alias('dow_number').cast(IntegerType()), date_format('Date_time', 'E').alias('dow_string'))\n",
    "daycounts = daydf.groupBy(\"dow_number\",\"dow_string\").count()\n",
    "daycounts = daycounts.collect()"
   ]
  },
  {
   "cell_type": "code",
   "execution_count": 28,
   "metadata": {},
   "outputs": [
    {
     "name": "stdout",
     "output_type": "stream",
     "text": [
      "[Row(dow_number=7, dow_string='Sun', count=2958266), Row(dow_number=2, dow_string='Tue', count=2291605), Row(dow_number=3, dow_string='Wed', count=2462354), Row(dow_number=1, dow_string='Mon', count=2225759), Row(dow_number=4, dow_string='Thu', count=2739146), Row(dow_number=5, dow_string='Fri', count=3054902), Row(dow_number=6, dow_string='Sat', count=3501733)]\n"
     ]
    }
   ],
   "source": [
    "print(daycounts)"
   ]
  },
  {
   "cell_type": "code",
   "execution_count": 29,
   "metadata": {},
   "outputs": [],
   "source": [
    "days_number = [item[0] for item in daycounts]\n",
    "day_name = [item[1] for item in daycounts]\n",
    "count = [item[2] for item in daycounts]"
   ]
  },
  {
   "cell_type": "code",
   "execution_count": 30,
   "metadata": {},
   "outputs": [
    {
     "data": {
      "text/plain": [
       "[7, 2, 3, 1, 4, 5, 6]"
      ]
     },
     "execution_count": 30,
     "metadata": {},
     "output_type": "execute_result"
    }
   ],
   "source": [
    "days_number\n"
   ]
  },
  {
   "cell_type": "code",
   "execution_count": 31,
   "metadata": {},
   "outputs": [
    {
     "data": {
      "text/plain": [
       "['Sun', 'Tue', 'Wed', 'Mon', 'Thu', 'Fri', 'Sat']"
      ]
     },
     "execution_count": 31,
     "metadata": {},
     "output_type": "execute_result"
    }
   ],
   "source": [
    "day_name"
   ]
  },
  {
   "cell_type": "code",
   "execution_count": 32,
   "metadata": {},
   "outputs": [
    {
     "data": {
      "image/png": "[encoded data removed]",
      "text/plain": [
       "<matplotlib.figure.Figure at 0x1c720f3f630>"
      ]
     },
     "metadata": {},
     "output_type": "display_data"
    }
   ],
   "source": [
    "rides_per_day = {\"days\":day_name, \"rides_count\": count, \"day_number\":days_number}\n",
    "rides_per_day = pd.DataFrame(rides_per_day)\n",
    "rides_per_day = rides_per_day.sort_values(by = \"day_number\",ascending  = True)\n",
    "rides_per_day.plot(figsize = (20,10), kind = \"line\", x = \"days\", y = \"rides_count\", \n",
    "                      color = \"red\", linewidth = 8, legend = False)\n",
    "plt.xlabel(\"Days\", fontsize = 18)\n",
    "plt.ylabel(\"Number of Rides\", fontsize = 18)\n",
    "plt.title(\"Number of Rides Per Day\", fontsize = 28)\n",
    "plt.xticks(size = 18)\n",
    "plt.yticks(size = 18)\n",
    "plt.show()"
   ]
  },
  {
   "cell_type": "code",
   "execution_count": 33,
   "metadata": {},
   "outputs": [
    {
     "data": {
      "text/html": [
       "<script>requirejs.config({paths: { 'plotly': ['https://cdn.plot.ly/plotly-latest.min']},});if(!window.Plotly) {{require(['plotly'],function(plotly) {window.Plotly=plotly;});}}</script>"
      ],
      "text/vnd.plotly.v1+html": [
       "<script>requirejs.config({paths: { 'plotly': ['https://cdn.plot.ly/plotly-latest.min']},});if(!window.Plotly) {{require(['plotly'],function(plotly) {window.Plotly=plotly;});}}</script>"
      ]
     },
     "metadata": {},
     "output_type": "display_data"
    },
    {
     "data": {
      "application/vnd.plotly.v1+json": {
       "data": [
        {
         "type": "scatter",
         "uid": "37a3a56e-e938-11e8-a640-c8d3ffcdad54",
         "x": [
          "Mon",
          "Tue",
          "Wed",
          "Thu",
          "Fri",
          "Sat",
          "Sun"
         ],
         "y": [
          2225759,
          2291605,
          2462354,
          2739146,
          3054902,
          3501733,
          2958266
         ]
        }
       ],
       "layout": {
        "title": "Number of Rides Per Day"
       }
      },
      "text/html": [
       "<div id=\"9d0f8822-978a-4bcc-a294-f7cd7b245914\" style=\"height: 525px; width: 100%;\" class=\"plotly-graph-div\"></div><script type=\"text/javascript\">require([\"plotly\"], function(Plotly) { window.PLOTLYENV=window.PLOTLYENV || {};window.PLOTLYENV.BASE_URL=\"https://plot.ly\";Plotly.newPlot(\"9d0f8822-978a-4bcc-a294-f7cd7b245914\", [{\"x\": [\"Mon\", \"Tue\", \"Wed\", \"Thu\", \"Fri\", \"Sat\", \"Sun\"], \"y\": [2225759, 2291605, 2462354, 2739146, 3054902, 3501733, 2958266], \"type\": \"scatter\", \"uid\": \"37a3a56e-e938-11e8-a640-c8d3ffcdad54\"}], {\"title\": \"Number of Rides Per Day\"}, {\"showLink\": true, \"linkText\": \"Export to plot.ly\"})});</script>"
      ],
      "text/vnd.plotly.v1+html": [
       "<div id=\"9d0f8822-978a-4bcc-a294-f7cd7b245914\" style=\"height: 525px; width: 100%;\" class=\"plotly-graph-div\"></div><script type=\"text/javascript\">require([\"plotly\"], function(Plotly) { window.PLOTLYENV=window.PLOTLYENV || {};window.PLOTLYENV.BASE_URL=\"https://plot.ly\";Plotly.newPlot(\"9d0f8822-978a-4bcc-a294-f7cd7b245914\", [{\"x\": [\"Mon\", \"Tue\", \"Wed\", \"Thu\", \"Fri\", \"Sat\", \"Sun\"], \"y\": [2225759, 2291605, 2462354, 2739146, 3054902, 3501733, 2958266], \"type\": \"scatter\", \"uid\": \"37a3a56e-e938-11e8-a640-c8d3ffcdad54\"}], {\"title\": \"Number of Rides Per Day\"}, {\"showLink\": true, \"linkText\": \"Export to plot.ly\"})});</script>"
      ]
     },
     "metadata": {},
     "output_type": "display_data"
    }
   ],
   "source": [
    "from pyspark.sql.functions import dayofweek\n",
    "from pyspark.sql.functions import date_format\n",
    "from plotly import __version__\n",
    "from plotly.offline import download_plotlyjs, init_notebook_mode, plot, iplot\n",
    "import plotly.graph_objs as go\n",
    "init_notebook_mode(connected=True)\n",
    "\n",
    "\n",
    "\n",
    "days_number = [item[0] for item in daycounts]\n",
    "day_name = [item[1] for item in daycounts]\n",
    "count = [item[2] for item in daycounts]\n",
    "\n",
    "rides_byDay = {\"days\" : day_name, \"count\": count,\"day_number\": days_number}\n",
    "rides_byDay = pd.DataFrame(rides_byDay)\n",
    "rides_byDay = rides_byDay.sort_values(by = \"day_number\", ascending  = True)\n",
    "rides_byDay.head()\n",
    "\n",
    "data = [\n",
    "    go.Scatter(\n",
    "        x=rides_byDay['days'], # assign x as the dataframe column 'x'\n",
    "        y=rides_byDay['count']\n",
    "    )\n",
    "]\n",
    "\n",
    "layout = go.Layout(title='Number of Rides Per Day')\n",
    "fig = go.Figure(data=data, layout=layout)\n",
    "\n",
    "plot(fig, filename='line_daily.html')\n",
    "iplot(fig, filename='line_daily')"
   ]
  },
  {
   "cell_type": "markdown",
   "metadata": {},
   "source": [
    "## Get the count data for hourly trend and plot a line chart"
   ]
  },
  {
   "cell_type": "code",
   "execution_count": 34,
   "metadata": {},
   "outputs": [
    {
     "data": {
      "image/png": "[encoded data removed]",
      "text/plain": [
       "<matplotlib.figure.Figure at 0x1c728ec1ba8>"
      ]
     },
     "metadata": {},
     "output_type": "display_data"
    }
   ],
   "source": [
    "from pyspark.sql.functions import hour\n",
    "from pyspark.sql.types import IntegerType\n",
    "from datetime import datetime\n",
    "from pyspark.sql.functions import col,udf\n",
    "from pyspark.sql.types import TimestampType\n",
    "from pyspark.sql.functions import date_format\n",
    "\n",
    "hourdf = df.withColumn('Hour',hour('Date_time').cast(IntegerType()))\n",
    "hourdfcount = hourdf.select(\"Hour\").groupBy(\"Hour\").count()\n",
    "hourdfcount = hourdfcount.collect()\n",
    "hour_val = [item[0] for item in hourdfcount]\n",
    "count = [item[1] for item in hourdfcount]\n",
    "\n",
    "rides_per_hour = {\"hour\":hour_val, \"rides_count\": count}\n",
    "rides_per_hour = pd.DataFrame(rides_per_hour)\n",
    "rides_per_hour = rides_per_hour.sort_values(by = \"hour\", ascending  = True)\n",
    "rides_per_hour.plot(figsize = (20,10), kind = \"line\", x = \"hour\", y = \"rides_count\", \n",
    "                      color = \"red\", linewidth = 8, legend = False)\n",
    "plt.xlabel(\"Hour\", fontsize = 18)\n",
    "plt.ylabel(\"Number of Rides\", fontsize = 18)\n",
    "plt.title(\"Number of Rides Per hour\", fontsize = 28)\n",
    "plt.xticks(size = 18)\n",
    "plt.yticks(size = 18)\n",
    "plt.show()"
   ]
  },
  {
   "cell_type": "code",
   "execution_count": 35,
   "metadata": {
    "scrolled": false
   },
   "outputs": [
    {
     "data": {
      "text/html": [
       "<script>requirejs.config({paths: { 'plotly': ['https://cdn.plot.ly/plotly-latest.min']},});if(!window.Plotly) {{require(['plotly'],function(plotly) {window.Plotly=plotly;});}}</script>"
      ],
      "text/vnd.plotly.v1+html": [
       "<script>requirejs.config({paths: { 'plotly': ['https://cdn.plot.ly/plotly-latest.min']},});if(!window.Plotly) {{require(['plotly'],function(plotly) {window.Plotly=plotly;});}}</script>"
      ]
     },
     "metadata": {},
     "output_type": "display_data"
    },
    {
     "data": {
      "application/vnd.plotly.v1+json": {
       "data": [
        {
         "type": "scatter",
         "uid": "46911d9e-e939-11e8-b0dd-c8d3ffcdad54",
         "x": [
          0,
          1,
          2,
          3,
          4,
          5,
          6,
          7,
          8,
          9,
          10,
          11,
          12,
          13,
          14,
          15,
          16,
          17,
          18,
          19,
          20,
          21,
          22,
          23
         ],
         "y": [
          885062,
          708339,
          528371,
          407392,
          336003,
          218344,
          272609,
          508596,
          747021,
          773045,
          725017,
          719292,
          730457,
          747643,
          852634,
          950030,
          1032131,
          1141055,
          1262762,
          1268402,
          1170029,
          1126735,
          1091606,
          1031190
         ]
        }
       ],
       "layout": {
        "title": "Number of Rides by time hour"
       }
      },
      "text/html": [
       "<div id=\"669b0b7c-85c8-4446-9500-697ba802d3c4\" style=\"height: 525px; width: 100%;\" class=\"plotly-graph-div\"></div><script type=\"text/javascript\">require([\"plotly\"], function(Plotly) { window.PLOTLYENV=window.PLOTLYENV || {};window.PLOTLYENV.BASE_URL=\"https://plot.ly\";Plotly.newPlot(\"669b0b7c-85c8-4446-9500-697ba802d3c4\", [{\"x\": [0, 1, 2, 3, 4, 5, 6, 7, 8, 9, 10, 11, 12, 13, 14, 15, 16, 17, 18, 19, 20, 21, 22, 23], \"y\": [885062, 708339, 528371, 407392, 336003, 218344, 272609, 508596, 747021, 773045, 725017, 719292, 730457, 747643, 852634, 950030, 1032131, 1141055, 1262762, 1268402, 1170029, 1126735, 1091606, 1031190], \"type\": \"scatter\", \"uid\": \"46911d9e-e939-11e8-b0dd-c8d3ffcdad54\"}], {\"title\": \"Number of Rides by time hour\"}, {\"showLink\": true, \"linkText\": \"Export to plot.ly\"})});</script>"
      ],
      "text/vnd.plotly.v1+html": [
       "<div id=\"669b0b7c-85c8-4446-9500-697ba802d3c4\" style=\"height: 525px; width: 100%;\" class=\"plotly-graph-div\"></div><script type=\"text/javascript\">require([\"plotly\"], function(Plotly) { window.PLOTLYENV=window.PLOTLYENV || {};window.PLOTLYENV.BASE_URL=\"https://plot.ly\";Plotly.newPlot(\"669b0b7c-85c8-4446-9500-697ba802d3c4\", [{\"x\": [0, 1, 2, 3, 4, 5, 6, 7, 8, 9, 10, 11, 12, 13, 14, 15, 16, 17, 18, 19, 20, 21, 22, 23], \"y\": [885062, 708339, 528371, 407392, 336003, 218344, 272609, 508596, 747021, 773045, 725017, 719292, 730457, 747643, 852634, 950030, 1032131, 1141055, 1262762, 1268402, 1170029, 1126735, 1091606, 1031190], \"type\": \"scatter\", \"uid\": \"46911d9e-e939-11e8-b0dd-c8d3ffcdad54\"}], {\"title\": \"Number of Rides by time hour\"}, {\"showLink\": true, \"linkText\": \"Export to plot.ly\"})});</script>"
      ]
     },
     "metadata": {},
     "output_type": "display_data"
    }
   ],
   "source": [
    "#plot using plotly\n",
    "from pyspark.sql.functions import hour\n",
    "from pyspark.sql.types import IntegerType\n",
    "from datetime import datetime\n",
    "from pyspark.sql.functions import col,udf\n",
    "from pyspark.sql.types import TimestampType\n",
    "from pyspark.sql.functions import date_format\n",
    "from plotly import __version__\n",
    "from plotly.offline import download_plotlyjs, init_notebook_mode, plot, iplot\n",
    "import plotly.graph_objs as go\n",
    "init_notebook_mode(connected=True)\n",
    "\n",
    "hourdf = df.withColumn('Hour',hour('Date_time').cast(IntegerType()))\n",
    "hourdfcount = hourdf.select(\"Hour\").groupBy(\"Hour\").count()\n",
    "hourdfcount = hourdfcount.collect()\n",
    "hour_val = [item[0] for item in hourdfcount]\n",
    "count = [item[1] for item in hourdfcount]\n",
    "hour_val = [item[0] for item in hourdfcount]\n",
    "count = [item[1] for item in hourdfcount]\n",
    "\n",
    "rides_per_hour = {\"hour\":hour_val, \"rides_count\": count}\n",
    "rides_per_hour = pd.DataFrame(rides_per_hour)\n",
    "rides_per_hour = rides_per_hour.sort_values(by = \"hour\", ascending  = True)\n",
    "\n",
    "data = [\n",
    "    go.Scatter(\n",
    "        x=rides_per_hour['hour'], # assign x as the dataframe column 'x'\n",
    "        y=rides_per_hour['rides_count']\n",
    "    )\n",
    "]\n",
    "\n",
    "layout = go.Layout(title='Number of Rides by time hour')\n",
    "fig = go.Figure(data=data, layout=layout)\n",
    "\n",
    "plot(fig, filename='hourly_trend.html')\n",
    "iplot(fig, filename='hourly_trend')"
   ]
  },
  {
   "cell_type": "markdown",
   "metadata": {},
   "source": [
    "## Get the count data for payment type and plot a bar chart"
   ]
  },
  {
   "cell_type": "code",
   "execution_count": 36,
   "metadata": {},
   "outputs": [],
   "source": [
    "#convert to pandas dataframe\n",
    "payment_type=taxi.groupby('Payment_type').count()\n",
    "payment_type=payment_type.toPandas()"
   ]
  },
  {
   "cell_type": "code",
   "execution_count": 37,
   "metadata": {},
   "outputs": [
    {
     "name": "stdout",
     "output_type": "stream",
     "text": [
      "   Payment_type     count\n",
      "0             1   8879600\n",
      "1             3     64508\n",
      "2             5       959\n",
      "3             4     61267\n",
      "4             2  10227431\n"
     ]
    }
   ],
   "source": [
    "print(payment_type)"
   ]
  },
  {
   "cell_type": "code",
   "execution_count": 38,
   "metadata": {},
   "outputs": [
    {
     "name": "stdout",
     "output_type": "stream",
     "text": [
      "   Payment_type     count\n",
      "0             1   8879600\n",
      "4             2  10227431\n",
      "1             3     64508\n",
      "3             4     61267\n",
      "2             5       959\n"
     ]
    }
   ],
   "source": [
    "payment_type_rename=payment_type.sort_values(by='Payment_type')\n",
    "print(payment_type_rename)"
   ]
  },
  {
   "cell_type": "code",
   "execution_count": 39,
   "metadata": {},
   "outputs": [
    {
     "name": "stdout",
     "output_type": "stream",
     "text": [
      "  Payment_type     count\n",
      "0  Credit card   8879600\n",
      "4         Cash  10227431\n",
      "1    No charge     64508\n",
      "3      Dispute     61267\n",
      "2      Unknown       959\n",
      "  Payment_type     count\n",
      "4         Cash  10227431\n",
      "0  Credit card   8879600\n",
      "1    No charge     64508\n",
      "3      Dispute     61267\n",
      "2      Unknown       959\n"
     ]
    }
   ],
   "source": [
    "list=['Credit card',' Cash','No charge','Dispute','Unknown']\n",
    "payment_type_rename.Payment_type=list\n",
    "print(payment_type_rename)\n",
    "payment_type_rename=payment_type_rename\n",
    "payment_type_rename=payment_type_rename.sort_values(by='count',ascending=False)\n",
    "print(payment_type_rename)"
   ]
  },
  {
   "cell_type": "code",
   "execution_count": 40,
   "metadata": {},
   "outputs": [
    {
     "data": {
      "text/html": [
       "<script>requirejs.config({paths: { 'plotly': ['https://cdn.plot.ly/plotly-latest.min']},});if(!window.Plotly) {{require(['plotly'],function(plotly) {window.Plotly=plotly;});}}</script>"
      ],
      "text/vnd.plotly.v1+html": [
       "<script>requirejs.config({paths: { 'plotly': ['https://cdn.plot.ly/plotly-latest.min']},});if(!window.Plotly) {{require(['plotly'],function(plotly) {window.Plotly=plotly;});}}</script>"
      ]
     },
     "metadata": {},
     "output_type": "display_data"
    },
    {
     "data": {
      "application/vnd.plotly.v1+json": {
       "data": [
        {
         "type": "bar",
         "uid": "5f3849a8-e939-11e8-a0d7-c8d3ffcdad54",
         "x": [
          " Cash",
          "Credit card",
          "No charge",
          "Dispute",
          "Unknown"
         ],
         "y": [
          10227431,
          8879600,
          64508,
          61267,
          959
         ]
        }
       ],
       "layout": {
        "title": "Bar plot of payment type count"
       }
      },
      "text/html": [
       "<div id=\"d11fd63f-a556-41bd-b196-285985c07e46\" style=\"height: 525px; width: 100%;\" class=\"plotly-graph-div\"></div><script type=\"text/javascript\">require([\"plotly\"], function(Plotly) { window.PLOTLYENV=window.PLOTLYENV || {};window.PLOTLYENV.BASE_URL=\"https://plot.ly\";Plotly.newPlot(\"d11fd63f-a556-41bd-b196-285985c07e46\", [{\"x\": [\" Cash\", \"Credit card\", \"No charge\", \"Dispute\", \"Unknown\"], \"y\": [10227431, 8879600, 64508, 61267, 959], \"type\": \"bar\", \"uid\": \"5f3849a8-e939-11e8-a0d7-c8d3ffcdad54\"}], {\"title\": \"Bar plot of payment type count\"}, {\"showLink\": true, \"linkText\": \"Export to plot.ly\"})});</script>"
      ],
      "text/vnd.plotly.v1+html": [
       "<div id=\"d11fd63f-a556-41bd-b196-285985c07e46\" style=\"height: 525px; width: 100%;\" class=\"plotly-graph-div\"></div><script type=\"text/javascript\">require([\"plotly\"], function(Plotly) { window.PLOTLYENV=window.PLOTLYENV || {};window.PLOTLYENV.BASE_URL=\"https://plot.ly\";Plotly.newPlot(\"d11fd63f-a556-41bd-b196-285985c07e46\", [{\"x\": [\" Cash\", \"Credit card\", \"No charge\", \"Dispute\", \"Unknown\"], \"y\": [10227431, 8879600, 64508, 61267, 959], \"type\": \"bar\", \"uid\": \"5f3849a8-e939-11e8-a0d7-c8d3ffcdad54\"}], {\"title\": \"Bar plot of payment type count\"}, {\"showLink\": true, \"linkText\": \"Export to plot.ly\"})});</script>"
      ]
     },
     "metadata": {},
     "output_type": "display_data"
    }
   ],
   "source": [
    "from plotly import __version__\n",
    "from plotly.offline import download_plotlyjs, init_notebook_mode, plot, iplot\n",
    "import plotly.graph_objs as go\n",
    "init_notebook_mode(connected=True)\n",
    "\n",
    "data = [\n",
    "    go.Bar(\n",
    "        x=payment_type_rename['Payment_type'], # assign x as the dataframe column 'x'\n",
    "        y=payment_type_rename['count']        \n",
    "    )\n",
    "]\n",
    "layout = go.Layout(title='Bar plot of payment type count')\n",
    "fig = go.Figure(data=data, layout=layout)\n",
    "plot(fig,filename='payment_type.html')\n",
    "iplot(fig,filename='payment_type')"
   ]
  },
  {
   "cell_type": "markdown",
   "metadata": {},
   "source": [
    "## Trip type"
   ]
  },
  {
   "cell_type": "code",
   "execution_count": 41,
   "metadata": {},
   "outputs": [],
   "source": [
    "#show the count in spark dataframe\n",
    "Triptype=taxi.groupby('Trip_type').count()\n",
    "#convert to pandas dataframe\n",
    "Triptype=Triptype.toPandas()\n"
   ]
  },
  {
   "cell_type": "code",
   "execution_count": 42,
   "metadata": {},
   "outputs": [
    {
     "name": "stdout",
     "output_type": "stream",
     "text": [
      "   Trip_type     count\n",
      "1        1.0  18791242\n",
      "2        2.0    442451\n"
     ]
    }
   ],
   "source": [
    "Triptype.dropna(how='any', inplace=True)\n",
    "print(Triptype)"
   ]
  },
  {
   "cell_type": "code",
   "execution_count": 43,
   "metadata": {},
   "outputs": [
    {
     "data": {
      "text/html": [
       "<script>requirejs.config({paths: { 'plotly': ['https://cdn.plot.ly/plotly-latest.min']},});if(!window.Plotly) {{require(['plotly'],function(plotly) {window.Plotly=plotly;});}}</script>"
      ],
      "text/vnd.plotly.v1+html": [
       "<script>requirejs.config({paths: { 'plotly': ['https://cdn.plot.ly/plotly-latest.min']},});if(!window.Plotly) {{require(['plotly'],function(plotly) {window.Plotly=plotly;});}}</script>"
      ]
     },
     "metadata": {},
     "output_type": "display_data"
    },
    {
     "data": {
      "application/vnd.plotly.v1+json": {
       "data": [
        {
         "labels": [
          "Street-hail",
          "Dispatch"
         ],
         "type": "pie",
         "uid": "70f21b22-e939-11e8-bae2-c8d3ffcdad54",
         "values": [
          18791242,
          442451
         ]
        }
       ],
       "layout": {
        "title": "Pie chart of trip type count"
       }
      },
      "text/html": [
       "<div id=\"d4a95703-1950-4ef7-9320-48d0665c09be\" style=\"height: 525px; width: 100%;\" class=\"plotly-graph-div\"></div><script type=\"text/javascript\">require([\"plotly\"], function(Plotly) { window.PLOTLYENV=window.PLOTLYENV || {};window.PLOTLYENV.BASE_URL=\"https://plot.ly\";Plotly.newPlot(\"d4a95703-1950-4ef7-9320-48d0665c09be\", [{\"labels\": [\"Street-hail\", \"Dispatch\"], \"values\": [18791242, 442451], \"type\": \"pie\", \"uid\": \"70f21b22-e939-11e8-bae2-c8d3ffcdad54\"}], {\"title\": \"Pie chart of trip type count\"}, {\"showLink\": true, \"linkText\": \"Export to plot.ly\"})});</script>"
      ],
      "text/vnd.plotly.v1+html": [
       "<div id=\"d4a95703-1950-4ef7-9320-48d0665c09be\" style=\"height: 525px; width: 100%;\" class=\"plotly-graph-div\"></div><script type=\"text/javascript\">require([\"plotly\"], function(Plotly) { window.PLOTLYENV=window.PLOTLYENV || {};window.PLOTLYENV.BASE_URL=\"https://plot.ly\";Plotly.newPlot(\"d4a95703-1950-4ef7-9320-48d0665c09be\", [{\"labels\": [\"Street-hail\", \"Dispatch\"], \"values\": [18791242, 442451], \"type\": \"pie\", \"uid\": \"70f21b22-e939-11e8-bae2-c8d3ffcdad54\"}], {\"title\": \"Pie chart of trip type count\"}, {\"showLink\": true, \"linkText\": \"Export to plot.ly\"})});</script>"
      ]
     },
     "metadata": {},
     "output_type": "display_data"
    }
   ],
   "source": [
    "#create pie chart in plotly\n",
    "#plot using plotly\n",
    "from plotly import __version__\n",
    "from plotly.offline import download_plotlyjs, init_notebook_mode, plot, iplot\n",
    "import plotly.graph_objs as go\n",
    "import plotly.figure_factory as ff\n",
    "init_notebook_mode(connected=True)\n",
    "\n",
    "labels=['Street-hail','Dispatch']\n",
    "sizes =Triptype['count']\n",
    "\n",
    "trace = go.Pie(labels=labels, values=sizes)\n",
    "layout = go.Layout(title='Pie chart of trip type count')\n",
    "\n",
    "fig = go.Figure(data=[trace], layout=layout)\n",
    "plot(fig, filename='Triptype.html')\n",
    "iplot(fig, filename='Triptype')"
   ]
  },
  {
   "cell_type": "markdown",
   "metadata": {},
   "source": [
    "# Statistical Analysis data modelling"
   ]
  },
  {
   "cell_type": "code",
   "execution_count": 6,
   "metadata": {},
   "outputs": [
    {
     "data": {
      "text/plain": [
       "7534935"
      ]
     },
     "execution_count": 6,
     "metadata": {},
     "output_type": "execute_result"
    }
   ],
   "source": [
    "#filtering illogical value\n",
    "taxi=taxi.filter(taxi.Tip_amount>0)\n",
    "taxi=taxi.filter(taxi.Total_amount>0)\n",
    "taxi=taxi.filter(taxi.Fare_amount>0)\n",
    "taxi=taxi.filter(taxi.Trip_distance>0)\n",
    "taxi.count()"
   ]
  },
  {
   "cell_type": "markdown",
   "metadata": {},
   "source": [
    "## Tip amount analysis "
   ]
  },
  {
   "cell_type": "code",
   "execution_count": 45,
   "metadata": {},
   "outputs": [],
   "source": [
    "tips=taxi.describe('Tip_amount')"
   ]
  },
  {
   "cell_type": "code",
   "execution_count": 46,
   "metadata": {},
   "outputs": [
    {
     "name": "stdout",
     "output_type": "stream",
     "text": [
      "+-------+------------------+\n",
      "|summary|        Tip_amount|\n",
      "+-------+------------------+\n",
      "|  count|           7534935|\n",
      "|   mean| 3.018129945379967|\n",
      "| stddev|3.7595368223638412|\n",
      "|    min|              0.01|\n",
      "|    max|           2017.73|\n",
      "+-------+------------------+\n",
      "\n"
     ]
    }
   ],
   "source": [
    "tips.show()"
   ]
  },
  {
   "cell_type": "code",
   "execution_count": 47,
   "metadata": {},
   "outputs": [],
   "source": [
    "#drop data below 0 as not logic tips to be below 0\n",
    "filter_tips=taxi.filter(taxi.Tip_amount>0)\n",
    "filter_tips=filter_tips.describe('Tip_amount')"
   ]
  },
  {
   "cell_type": "code",
   "execution_count": 48,
   "metadata": {},
   "outputs": [
    {
     "name": "stdout",
     "output_type": "stream",
     "text": [
      "+-------+------------------+\n",
      "|summary|        Tip_amount|\n",
      "+-------+------------------+\n",
      "|  count|           7534935|\n",
      "|   mean| 3.018129945379967|\n",
      "| stddev|3.7595368223638412|\n",
      "|    min|              0.01|\n",
      "|    max|           2017.73|\n",
      "+-------+------------------+\n",
      "\n"
     ]
    }
   ],
   "source": [
    "filter_tips.show()"
   ]
  },
  {
   "cell_type": "code",
   "execution_count": 49,
   "metadata": {},
   "outputs": [
    {
     "name": "stdout",
     "output_type": "stream",
     "text": [
      "  summary          Tip_amount\n",
      "0   count             7534935\n",
      "1    mean   3.018129945379967\n",
      "2  stddev  3.7595368223638412\n",
      "3     min                0.01\n",
      "4     max             2017.73\n"
     ]
    }
   ],
   "source": [
    "filter_tips=filter_tips.toPandas()\n",
    "print(filter_tips)"
   ]
  },
  {
   "cell_type": "code",
   "execution_count": 50,
   "metadata": {},
   "outputs": [
    {
     "data": {
      "text/html": [
       "<script>requirejs.config({paths: { 'plotly': ['https://cdn.plot.ly/plotly-latest.min']},});if(!window.Plotly) {{require(['plotly'],function(plotly) {window.Plotly=plotly;});}}</script>"
      ],
      "text/vnd.plotly.v1+html": [
       "<script>requirejs.config({paths: { 'plotly': ['https://cdn.plot.ly/plotly-latest.min']},});if(!window.Plotly) {{require(['plotly'],function(plotly) {window.Plotly=plotly;});}}</script>"
      ]
     },
     "metadata": {},
     "output_type": "display_data"
    },
    {
     "data": {
      "application/vnd.plotly.v1+json": {
       "data": [
        {
         "colorscale": [
          [
           0,
           "#00083e"
          ],
          [
           0.5,
           "#ededee"
          ],
          [
           1,
           "#ffffff"
          ]
         ],
         "hoverinfo": "none",
         "opacity": 0.75,
         "showscale": false,
         "type": "heatmap",
         "uid": "ac547be2-e939-11e8-a9a7-c8d3ffcdad54",
         "z": [
          [
           0,
           0
          ],
          [
           0.5,
           0.5
          ],
          [
           1,
           1
          ],
          [
           0.5,
           0.5
          ],
          [
           1,
           1
          ],
          [
           0.5,
           0.5
          ]
         ]
        }
       ],
       "layout": {
        "annotations": [
         {
          "align": "left",
          "font": {
           "color": "#ffffff"
          },
          "showarrow": false,
          "text": "<b>summary</b>",
          "x": -0.45,
          "xanchor": "left",
          "xref": "x",
          "y": 0,
          "yref": "y"
         },
         {
          "align": "left",
          "font": {
           "color": "#ffffff"
          },
          "showarrow": false,
          "text": "<b>Tip_amount</b>",
          "x": 0.55,
          "xanchor": "left",
          "xref": "x",
          "y": 0,
          "yref": "y"
         },
         {
          "align": "left",
          "font": {
           "color": "#000000"
          },
          "showarrow": false,
          "text": "count",
          "x": -0.45,
          "xanchor": "left",
          "xref": "x",
          "y": 1,
          "yref": "y"
         },
         {
          "align": "left",
          "font": {
           "color": "#000000"
          },
          "showarrow": false,
          "text": "7534935",
          "x": 0.55,
          "xanchor": "left",
          "xref": "x",
          "y": 1,
          "yref": "y"
         },
         {
          "align": "left",
          "font": {
           "color": "#000000"
          },
          "showarrow": false,
          "text": "mean",
          "x": -0.45,
          "xanchor": "left",
          "xref": "x",
          "y": 2,
          "yref": "y"
         },
         {
          "align": "left",
          "font": {
           "color": "#000000"
          },
          "showarrow": false,
          "text": "3.018129945379967",
          "x": 0.55,
          "xanchor": "left",
          "xref": "x",
          "y": 2,
          "yref": "y"
         },
         {
          "align": "left",
          "font": {
           "color": "#000000"
          },
          "showarrow": false,
          "text": "stddev",
          "x": -0.45,
          "xanchor": "left",
          "xref": "x",
          "y": 3,
          "yref": "y"
         },
         {
          "align": "left",
          "font": {
           "color": "#000000"
          },
          "showarrow": false,
          "text": "3.7595368223638412",
          "x": 0.55,
          "xanchor": "left",
          "xref": "x",
          "y": 3,
          "yref": "y"
         },
         {
          "align": "left",
          "font": {
           "color": "#000000"
          },
          "showarrow": false,
          "text": "min",
          "x": -0.45,
          "xanchor": "left",
          "xref": "x",
          "y": 4,
          "yref": "y"
         },
         {
          "align": "left",
          "font": {
           "color": "#000000"
          },
          "showarrow": false,
          "text": "0.01",
          "x": 0.55,
          "xanchor": "left",
          "xref": "x",
          "y": 4,
          "yref": "y"
         },
         {
          "align": "left",
          "font": {
           "color": "#000000"
          },
          "showarrow": false,
          "text": "max",
          "x": -0.45,
          "xanchor": "left",
          "xref": "x",
          "y": 5,
          "yref": "y"
         },
         {
          "align": "left",
          "font": {
           "color": "#000000"
          },
          "showarrow": false,
          "text": "2017.73",
          "x": 0.55,
          "xanchor": "left",
          "xref": "x",
          "y": 5,
          "yref": "y"
         }
        ],
        "height": 230,
        "margin": {
         "b": 0,
         "l": 0,
         "r": 0,
         "t": 0
        },
        "xaxis": {
         "dtick": 1,
         "gridwidth": 2,
         "showticklabels": false,
         "tick0": -0.5,
         "ticks": "",
         "zeroline": false
        },
        "yaxis": {
         "autorange": "reversed",
         "dtick": 1,
         "gridwidth": 2,
         "showticklabels": false,
         "tick0": 0.5,
         "ticks": "",
         "zeroline": false
        }
       }
      },
      "text/html": [
       "<div id=\"ce315323-9f4d-4f75-bd39-5fa59c45ba89\" style=\"height: 230px; width: 100%;\" class=\"plotly-graph-div\"></div><script type=\"text/javascript\">require([\"plotly\"], function(Plotly) { window.PLOTLYENV=window.PLOTLYENV || {};window.PLOTLYENV.BASE_URL=\"https://plot.ly\";Plotly.newPlot(\"ce315323-9f4d-4f75-bd39-5fa59c45ba89\", [{\"colorscale\": [[0, \"#00083e\"], [0.5, \"#ededee\"], [1, \"#ffffff\"]], \"hoverinfo\": \"none\", \"opacity\": 0.75, \"showscale\": false, \"z\": [[0, 0], [0.5, 0.5], [1, 1], [0.5, 0.5], [1, 1], [0.5, 0.5]], \"type\": \"heatmap\", \"uid\": \"ac547be2-e939-11e8-a9a7-c8d3ffcdad54\"}], {\"annotations\": [{\"align\": \"left\", \"font\": {\"color\": \"#ffffff\"}, \"showarrow\": false, \"text\": \"<b>summary</b>\", \"x\": -0.45, \"xanchor\": \"left\", \"xref\": \"x\", \"y\": 0, \"yref\": \"y\"}, {\"align\": \"left\", \"font\": {\"color\": \"#ffffff\"}, \"showarrow\": false, \"text\": \"<b>Tip_amount</b>\", \"x\": 0.55, \"xanchor\": \"left\", \"xref\": \"x\", \"y\": 0, \"yref\": \"y\"}, {\"align\": \"left\", \"font\": {\"color\": \"#000000\"}, \"showarrow\": false, \"text\": \"count\", \"x\": -0.45, \"xanchor\": \"left\", \"xref\": \"x\", \"y\": 1, \"yref\": \"y\"}, {\"align\": \"left\", \"font\": {\"color\": \"#000000\"}, \"showarrow\": false, \"text\": \"7534935\", \"x\": 0.55, \"xanchor\": \"left\", \"xref\": \"x\", \"y\": 1, \"yref\": \"y\"}, {\"align\": \"left\", \"font\": {\"color\": \"#000000\"}, \"showarrow\": false, \"text\": \"mean\", \"x\": -0.45, \"xanchor\": \"left\", \"xref\": \"x\", \"y\": 2, \"yref\": \"y\"}, {\"align\": \"left\", \"font\": {\"color\": \"#000000\"}, \"showarrow\": false, \"text\": \"3.018129945379967\", \"x\": 0.55, \"xanchor\": \"left\", \"xref\": \"x\", \"y\": 2, \"yref\": \"y\"}, {\"align\": \"left\", \"font\": {\"color\": \"#000000\"}, \"showarrow\": false, \"text\": \"stddev\", \"x\": -0.45, \"xanchor\": \"left\", \"xref\": \"x\", \"y\": 3, \"yref\": \"y\"}, {\"align\": \"left\", \"font\": {\"color\": \"#000000\"}, \"showarrow\": false, \"text\": \"3.7595368223638412\", \"x\": 0.55, \"xanchor\": \"left\", \"xref\": \"x\", \"y\": 3, \"yref\": \"y\"}, {\"align\": \"left\", \"font\": {\"color\": \"#000000\"}, \"showarrow\": false, \"text\": \"min\", \"x\": -0.45, \"xanchor\": \"left\", \"xref\": \"x\", \"y\": 4, \"yref\": \"y\"}, {\"align\": \"left\", \"font\": {\"color\": \"#000000\"}, \"showarrow\": false, \"text\": \"0.01\", \"x\": 0.55, \"xanchor\": \"left\", \"xref\": \"x\", \"y\": 4, \"yref\": \"y\"}, {\"align\": \"left\", \"font\": {\"color\": \"#000000\"}, \"showarrow\": false, \"text\": \"max\", \"x\": -0.45, \"xanchor\": \"left\", \"xref\": \"x\", \"y\": 5, \"yref\": \"y\"}, {\"align\": \"left\", \"font\": {\"color\": \"#000000\"}, \"showarrow\": false, \"text\": \"2017.73\", \"x\": 0.55, \"xanchor\": \"left\", \"xref\": \"x\", \"y\": 5, \"yref\": \"y\"}], \"height\": 230, \"margin\": {\"b\": 0, \"l\": 0, \"r\": 0, \"t\": 0}, \"xaxis\": {\"dtick\": 1, \"gridwidth\": 2, \"showticklabels\": false, \"tick0\": -0.5, \"ticks\": \"\", \"zeroline\": false}, \"yaxis\": {\"autorange\": \"reversed\", \"dtick\": 1, \"gridwidth\": 2, \"showticklabels\": false, \"tick0\": 0.5, \"ticks\": \"\", \"zeroline\": false}}, {\"showLink\": true, \"linkText\": \"Export to plot.ly\"})});</script>"
      ],
      "text/vnd.plotly.v1+html": [
       "<div id=\"ce315323-9f4d-4f75-bd39-5fa59c45ba89\" style=\"height: 230px; width: 100%;\" class=\"plotly-graph-div\"></div><script type=\"text/javascript\">require([\"plotly\"], function(Plotly) { window.PLOTLYENV=window.PLOTLYENV || {};window.PLOTLYENV.BASE_URL=\"https://plot.ly\";Plotly.newPlot(\"ce315323-9f4d-4f75-bd39-5fa59c45ba89\", [{\"colorscale\": [[0, \"#00083e\"], [0.5, \"#ededee\"], [1, \"#ffffff\"]], \"hoverinfo\": \"none\", \"opacity\": 0.75, \"showscale\": false, \"z\": [[0, 0], [0.5, 0.5], [1, 1], [0.5, 0.5], [1, 1], [0.5, 0.5]], \"type\": \"heatmap\", \"uid\": \"ac547be2-e939-11e8-a9a7-c8d3ffcdad54\"}], {\"annotations\": [{\"align\": \"left\", \"font\": {\"color\": \"#ffffff\"}, \"showarrow\": false, \"text\": \"<b>summary</b>\", \"x\": -0.45, \"xanchor\": \"left\", \"xref\": \"x\", \"y\": 0, \"yref\": \"y\"}, {\"align\": \"left\", \"font\": {\"color\": \"#ffffff\"}, \"showarrow\": false, \"text\": \"<b>Tip_amount</b>\", \"x\": 0.55, \"xanchor\": \"left\", \"xref\": \"x\", \"y\": 0, \"yref\": \"y\"}, {\"align\": \"left\", \"font\": {\"color\": \"#000000\"}, \"showarrow\": false, \"text\": \"count\", \"x\": -0.45, \"xanchor\": \"left\", \"xref\": \"x\", \"y\": 1, \"yref\": \"y\"}, {\"align\": \"left\", \"font\": {\"color\": \"#000000\"}, \"showarrow\": false, \"text\": \"7534935\", \"x\": 0.55, \"xanchor\": \"left\", \"xref\": \"x\", \"y\": 1, \"yref\": \"y\"}, {\"align\": \"left\", \"font\": {\"color\": \"#000000\"}, \"showarrow\": false, \"text\": \"mean\", \"x\": -0.45, \"xanchor\": \"left\", \"xref\": \"x\", \"y\": 2, \"yref\": \"y\"}, {\"align\": \"left\", \"font\": {\"color\": \"#000000\"}, \"showarrow\": false, \"text\": \"3.018129945379967\", \"x\": 0.55, \"xanchor\": \"left\", \"xref\": \"x\", \"y\": 2, \"yref\": \"y\"}, {\"align\": \"left\", \"font\": {\"color\": \"#000000\"}, \"showarrow\": false, \"text\": \"stddev\", \"x\": -0.45, \"xanchor\": \"left\", \"xref\": \"x\", \"y\": 3, \"yref\": \"y\"}, {\"align\": \"left\", \"font\": {\"color\": \"#000000\"}, \"showarrow\": false, \"text\": \"3.7595368223638412\", \"x\": 0.55, \"xanchor\": \"left\", \"xref\": \"x\", \"y\": 3, \"yref\": \"y\"}, {\"align\": \"left\", \"font\": {\"color\": \"#000000\"}, \"showarrow\": false, \"text\": \"min\", \"x\": -0.45, \"xanchor\": \"left\", \"xref\": \"x\", \"y\": 4, \"yref\": \"y\"}, {\"align\": \"left\", \"font\": {\"color\": \"#000000\"}, \"showarrow\": false, \"text\": \"0.01\", \"x\": 0.55, \"xanchor\": \"left\", \"xref\": \"x\", \"y\": 4, \"yref\": \"y\"}, {\"align\": \"left\", \"font\": {\"color\": \"#000000\"}, \"showarrow\": false, \"text\": \"max\", \"x\": -0.45, \"xanchor\": \"left\", \"xref\": \"x\", \"y\": 5, \"yref\": \"y\"}, {\"align\": \"left\", \"font\": {\"color\": \"#000000\"}, \"showarrow\": false, \"text\": \"2017.73\", \"x\": 0.55, \"xanchor\": \"left\", \"xref\": \"x\", \"y\": 5, \"yref\": \"y\"}], \"height\": 230, \"margin\": {\"b\": 0, \"l\": 0, \"r\": 0, \"t\": 0}, \"xaxis\": {\"dtick\": 1, \"gridwidth\": 2, \"showticklabels\": false, \"tick0\": -0.5, \"ticks\": \"\", \"zeroline\": false}, \"yaxis\": {\"autorange\": \"reversed\", \"dtick\": 1, \"gridwidth\": 2, \"showticklabels\": false, \"tick0\": 0.5, \"ticks\": \"\", \"zeroline\": false}}, {\"showLink\": true, \"linkText\": \"Export to plot.ly\"})});</script>"
      ]
     },
     "metadata": {},
     "output_type": "display_data"
    }
   ],
   "source": [
    "#plot using plotly\n",
    "from plotly import __version__\n",
    "from plotly.offline import download_plotlyjs, init_notebook_mode, plot, iplot\n",
    "import plotly.graph_objs as go\n",
    "import plotly.figure_factory as ff\n",
    "init_notebook_mode(connected=True)\n",
    "\n",
    "\n",
    "table = ff.create_table(filter_tips)\n",
    "plot(table, filename='filter_tips.html')\n",
    "iplot(table, filename='filter_tips')"
   ]
  },
  {
   "cell_type": "markdown",
   "metadata": {},
   "source": [
    "## Trip distance analysis "
   ]
  },
  {
   "cell_type": "code",
   "execution_count": 7,
   "metadata": {},
   "outputs": [
    {
     "name": "stdout",
     "output_type": "stream",
     "text": [
      "+-------+------------------+\n",
      "|summary|     Trip_distance|\n",
      "+-------+------------------+\n",
      "|  count|           7534935|\n",
      "|   mean|3.4520599129256024|\n",
      "| stddev| 3.202511952299445|\n",
      "|    min|              0.01|\n",
      "|    max|             586.1|\n",
      "+-------+------------------+\n",
      "\n"
     ]
    }
   ],
   "source": [
    "trip=taxi.describe('Trip_distance')\n",
    "trip.show()"
   ]
  },
  {
   "cell_type": "code",
   "execution_count": 8,
   "metadata": {},
   "outputs": [],
   "source": [
    "#drop data below 0 as not logic tips to be below 0\n",
    "filter_trip=taxi.filter(taxi.Trip_distance>0.0)"
   ]
  },
  {
   "cell_type": "code",
   "execution_count": 9,
   "metadata": {},
   "outputs": [
    {
     "name": "stdout",
     "output_type": "stream",
     "text": [
      "+-------+------------------+\n",
      "|summary|     Trip_distance|\n",
      "+-------+------------------+\n",
      "|  count|           7534935|\n",
      "|   mean|3.4520599129256024|\n",
      "| stddev| 3.202511952299445|\n",
      "|    min|              0.01|\n",
      "|    max|             586.1|\n",
      "+-------+------------------+\n",
      "\n"
     ]
    }
   ],
   "source": [
    "trip=filter_trip.describe('Trip_distance')\n",
    "trip.show()"
   ]
  },
  {
   "cell_type": "code",
   "execution_count": 10,
   "metadata": {},
   "outputs": [
    {
     "name": "stdout",
     "output_type": "stream",
     "text": [
      "  summary       Trip_distance\n",
      "0   count             7534935\n",
      "1    mean  3.4520599129256024\n",
      "2  stddev   3.202511952299445\n",
      "3     min                0.01\n",
      "4     max               586.1\n"
     ]
    }
   ],
   "source": [
    "trip=trip.toPandas()\n",
    "print(trip)"
   ]
  },
  {
   "cell_type": "code",
   "execution_count": 11,
   "metadata": {},
   "outputs": [
    {
     "data": {
      "text/html": [
       "<script>requirejs.config({paths: { 'plotly': ['https://cdn.plot.ly/plotly-latest.min']},});if(!window.Plotly) {{require(['plotly'],function(plotly) {window.Plotly=plotly;});}}</script>"
      ],
      "text/vnd.plotly.v1+html": [
       "<script>requirejs.config({paths: { 'plotly': ['https://cdn.plot.ly/plotly-latest.min']},});if(!window.Plotly) {{require(['plotly'],function(plotly) {window.Plotly=plotly;});}}</script>"
      ]
     },
     "metadata": {},
     "output_type": "display_data"
    },
    {
     "data": {
      "application/vnd.plotly.v1+json": {
       "data": [
        {
         "colorscale": [
          [
           0,
           "#00083e"
          ],
          [
           0.5,
           "#ededee"
          ],
          [
           1,
           "#ffffff"
          ]
         ],
         "hoverinfo": "none",
         "opacity": 0.75,
         "showscale": false,
         "type": "heatmap",
         "uid": "143bd77a-e9a9-11e8-98cf-c8d3ffcdad54",
         "z": [
          [
           0,
           0
          ],
          [
           0.5,
           0.5
          ],
          [
           1,
           1
          ],
          [
           0.5,
           0.5
          ],
          [
           1,
           1
          ],
          [
           0.5,
           0.5
          ]
         ]
        }
       ],
       "layout": {
        "annotations": [
         {
          "align": "left",
          "font": {
           "color": "#ffffff"
          },
          "showarrow": false,
          "text": "<b>summary</b>",
          "x": -0.45,
          "xanchor": "left",
          "xref": "x",
          "y": 0,
          "yref": "y"
         },
         {
          "align": "left",
          "font": {
           "color": "#ffffff"
          },
          "showarrow": false,
          "text": "<b>Trip_distance</b>",
          "x": 0.55,
          "xanchor": "left",
          "xref": "x",
          "y": 0,
          "yref": "y"
         },
         {
          "align": "left",
          "font": {
           "color": "#000000"
          },
          "showarrow": false,
          "text": "count",
          "x": -0.45,
          "xanchor": "left",
          "xref": "x",
          "y": 1,
          "yref": "y"
         },
         {
          "align": "left",
          "font": {
           "color": "#000000"
          },
          "showarrow": false,
          "text": "7534935",
          "x": 0.55,
          "xanchor": "left",
          "xref": "x",
          "y": 1,
          "yref": "y"
         },
         {
          "align": "left",
          "font": {
           "color": "#000000"
          },
          "showarrow": false,
          "text": "mean",
          "x": -0.45,
          "xanchor": "left",
          "xref": "x",
          "y": 2,
          "yref": "y"
         },
         {
          "align": "left",
          "font": {
           "color": "#000000"
          },
          "showarrow": false,
          "text": "3.4520599129256024",
          "x": 0.55,
          "xanchor": "left",
          "xref": "x",
          "y": 2,
          "yref": "y"
         },
         {
          "align": "left",
          "font": {
           "color": "#000000"
          },
          "showarrow": false,
          "text": "stddev",
          "x": -0.45,
          "xanchor": "left",
          "xref": "x",
          "y": 3,
          "yref": "y"
         },
         {
          "align": "left",
          "font": {
           "color": "#000000"
          },
          "showarrow": false,
          "text": "3.202511952299445",
          "x": 0.55,
          "xanchor": "left",
          "xref": "x",
          "y": 3,
          "yref": "y"
         },
         {
          "align": "left",
          "font": {
           "color": "#000000"
          },
          "showarrow": false,
          "text": "min",
          "x": -0.45,
          "xanchor": "left",
          "xref": "x",
          "y": 4,
          "yref": "y"
         },
         {
          "align": "left",
          "font": {
           "color": "#000000"
          },
          "showarrow": false,
          "text": "0.01",
          "x": 0.55,
          "xanchor": "left",
          "xref": "x",
          "y": 4,
          "yref": "y"
         },
         {
          "align": "left",
          "font": {
           "color": "#000000"
          },
          "showarrow": false,
          "text": "max",
          "x": -0.45,
          "xanchor": "left",
          "xref": "x",
          "y": 5,
          "yref": "y"
         },
         {
          "align": "left",
          "font": {
           "color": "#000000"
          },
          "showarrow": false,
          "text": "586.1",
          "x": 0.55,
          "xanchor": "left",
          "xref": "x",
          "y": 5,
          "yref": "y"
         }
        ],
        "height": 230,
        "margin": {
         "b": 0,
         "l": 0,
         "r": 0,
         "t": 0
        },
        "xaxis": {
         "dtick": 1,
         "gridwidth": 2,
         "showticklabels": false,
         "tick0": -0.5,
         "ticks": "",
         "zeroline": false
        },
        "yaxis": {
         "autorange": "reversed",
         "dtick": 1,
         "gridwidth": 2,
         "showticklabels": false,
         "tick0": 0.5,
         "ticks": "",
         "zeroline": false
        }
       }
      },
      "text/html": [
       "<div id=\"9ac48aa6-8f21-47bd-8523-0b7d8155b05f\" style=\"height: 230px; width: 100%;\" class=\"plotly-graph-div\"></div><script type=\"text/javascript\">require([\"plotly\"], function(Plotly) { window.PLOTLYENV=window.PLOTLYENV || {};window.PLOTLYENV.BASE_URL=\"https://plot.ly\";Plotly.newPlot(\"9ac48aa6-8f21-47bd-8523-0b7d8155b05f\", [{\"colorscale\": [[0, \"#00083e\"], [0.5, \"#ededee\"], [1, \"#ffffff\"]], \"hoverinfo\": \"none\", \"opacity\": 0.75, \"showscale\": false, \"z\": [[0, 0], [0.5, 0.5], [1, 1], [0.5, 0.5], [1, 1], [0.5, 0.5]], \"type\": \"heatmap\", \"uid\": \"143bd77a-e9a9-11e8-98cf-c8d3ffcdad54\"}], {\"annotations\": [{\"align\": \"left\", \"font\": {\"color\": \"#ffffff\"}, \"showarrow\": false, \"text\": \"<b>summary</b>\", \"x\": -0.45, \"xanchor\": \"left\", \"xref\": \"x\", \"y\": 0, \"yref\": \"y\"}, {\"align\": \"left\", \"font\": {\"color\": \"#ffffff\"}, \"showarrow\": false, \"text\": \"<b>Trip_distance</b>\", \"x\": 0.55, \"xanchor\": \"left\", \"xref\": \"x\", \"y\": 0, \"yref\": \"y\"}, {\"align\": \"left\", \"font\": {\"color\": \"#000000\"}, \"showarrow\": false, \"text\": \"count\", \"x\": -0.45, \"xanchor\": \"left\", \"xref\": \"x\", \"y\": 1, \"yref\": \"y\"}, {\"align\": \"left\", \"font\": {\"color\": \"#000000\"}, \"showarrow\": false, \"text\": \"7534935\", \"x\": 0.55, \"xanchor\": \"left\", \"xref\": \"x\", \"y\": 1, \"yref\": \"y\"}, {\"align\": \"left\", \"font\": {\"color\": \"#000000\"}, \"showarrow\": false, \"text\": \"mean\", \"x\": -0.45, \"xanchor\": \"left\", \"xref\": \"x\", \"y\": 2, \"yref\": \"y\"}, {\"align\": \"left\", \"font\": {\"color\": \"#000000\"}, \"showarrow\": false, \"text\": \"3.4520599129256024\", \"x\": 0.55, \"xanchor\": \"left\", \"xref\": \"x\", \"y\": 2, \"yref\": \"y\"}, {\"align\": \"left\", \"font\": {\"color\": \"#000000\"}, \"showarrow\": false, \"text\": \"stddev\", \"x\": -0.45, \"xanchor\": \"left\", \"xref\": \"x\", \"y\": 3, \"yref\": \"y\"}, {\"align\": \"left\", \"font\": {\"color\": \"#000000\"}, \"showarrow\": false, \"text\": \"3.202511952299445\", \"x\": 0.55, \"xanchor\": \"left\", \"xref\": \"x\", \"y\": 3, \"yref\": \"y\"}, {\"align\": \"left\", \"font\": {\"color\": \"#000000\"}, \"showarrow\": false, \"text\": \"min\", \"x\": -0.45, \"xanchor\": \"left\", \"xref\": \"x\", \"y\": 4, \"yref\": \"y\"}, {\"align\": \"left\", \"font\": {\"color\": \"#000000\"}, \"showarrow\": false, \"text\": \"0.01\", \"x\": 0.55, \"xanchor\": \"left\", \"xref\": \"x\", \"y\": 4, \"yref\": \"y\"}, {\"align\": \"left\", \"font\": {\"color\": \"#000000\"}, \"showarrow\": false, \"text\": \"max\", \"x\": -0.45, \"xanchor\": \"left\", \"xref\": \"x\", \"y\": 5, \"yref\": \"y\"}, {\"align\": \"left\", \"font\": {\"color\": \"#000000\"}, \"showarrow\": false, \"text\": \"586.1\", \"x\": 0.55, \"xanchor\": \"left\", \"xref\": \"x\", \"y\": 5, \"yref\": \"y\"}], \"height\": 230, \"margin\": {\"b\": 0, \"l\": 0, \"r\": 0, \"t\": 0}, \"xaxis\": {\"dtick\": 1, \"gridwidth\": 2, \"showticklabels\": false, \"tick0\": -0.5, \"ticks\": \"\", \"zeroline\": false}, \"yaxis\": {\"autorange\": \"reversed\", \"dtick\": 1, \"gridwidth\": 2, \"showticklabels\": false, \"tick0\": 0.5, \"ticks\": \"\", \"zeroline\": false}}, {\"showLink\": true, \"linkText\": \"Export to plot.ly\"})});</script>"
      ],
      "text/vnd.plotly.v1+html": [
       "<div id=\"9ac48aa6-8f21-47bd-8523-0b7d8155b05f\" style=\"height: 230px; width: 100%;\" class=\"plotly-graph-div\"></div><script type=\"text/javascript\">require([\"plotly\"], function(Plotly) { window.PLOTLYENV=window.PLOTLYENV || {};window.PLOTLYENV.BASE_URL=\"https://plot.ly\";Plotly.newPlot(\"9ac48aa6-8f21-47bd-8523-0b7d8155b05f\", [{\"colorscale\": [[0, \"#00083e\"], [0.5, \"#ededee\"], [1, \"#ffffff\"]], \"hoverinfo\": \"none\", \"opacity\": 0.75, \"showscale\": false, \"z\": [[0, 0], [0.5, 0.5], [1, 1], [0.5, 0.5], [1, 1], [0.5, 0.5]], \"type\": \"heatmap\", \"uid\": \"143bd77a-e9a9-11e8-98cf-c8d3ffcdad54\"}], {\"annotations\": [{\"align\": \"left\", \"font\": {\"color\": \"#ffffff\"}, \"showarrow\": false, \"text\": \"<b>summary</b>\", \"x\": -0.45, \"xanchor\": \"left\", \"xref\": \"x\", \"y\": 0, \"yref\": \"y\"}, {\"align\": \"left\", \"font\": {\"color\": \"#ffffff\"}, \"showarrow\": false, \"text\": \"<b>Trip_distance</b>\", \"x\": 0.55, \"xanchor\": \"left\", \"xref\": \"x\", \"y\": 0, \"yref\": \"y\"}, {\"align\": \"left\", \"font\": {\"color\": \"#000000\"}, \"showarrow\": false, \"text\": \"count\", \"x\": -0.45, \"xanchor\": \"left\", \"xref\": \"x\", \"y\": 1, \"yref\": \"y\"}, {\"align\": \"left\", \"font\": {\"color\": \"#000000\"}, \"showarrow\": false, \"text\": \"7534935\", \"x\": 0.55, \"xanchor\": \"left\", \"xref\": \"x\", \"y\": 1, \"yref\": \"y\"}, {\"align\": \"left\", \"font\": {\"color\": \"#000000\"}, \"showarrow\": false, \"text\": \"mean\", \"x\": -0.45, \"xanchor\": \"left\", \"xref\": \"x\", \"y\": 2, \"yref\": \"y\"}, {\"align\": \"left\", \"font\": {\"color\": \"#000000\"}, \"showarrow\": false, \"text\": \"3.4520599129256024\", \"x\": 0.55, \"xanchor\": \"left\", \"xref\": \"x\", \"y\": 2, \"yref\": \"y\"}, {\"align\": \"left\", \"font\": {\"color\": \"#000000\"}, \"showarrow\": false, \"text\": \"stddev\", \"x\": -0.45, \"xanchor\": \"left\", \"xref\": \"x\", \"y\": 3, \"yref\": \"y\"}, {\"align\": \"left\", \"font\": {\"color\": \"#000000\"}, \"showarrow\": false, \"text\": \"3.202511952299445\", \"x\": 0.55, \"xanchor\": \"left\", \"xref\": \"x\", \"y\": 3, \"yref\": \"y\"}, {\"align\": \"left\", \"font\": {\"color\": \"#000000\"}, \"showarrow\": false, \"text\": \"min\", \"x\": -0.45, \"xanchor\": \"left\", \"xref\": \"x\", \"y\": 4, \"yref\": \"y\"}, {\"align\": \"left\", \"font\": {\"color\": \"#000000\"}, \"showarrow\": false, \"text\": \"0.01\", \"x\": 0.55, \"xanchor\": \"left\", \"xref\": \"x\", \"y\": 4, \"yref\": \"y\"}, {\"align\": \"left\", \"font\": {\"color\": \"#000000\"}, \"showarrow\": false, \"text\": \"max\", \"x\": -0.45, \"xanchor\": \"left\", \"xref\": \"x\", \"y\": 5, \"yref\": \"y\"}, {\"align\": \"left\", \"font\": {\"color\": \"#000000\"}, \"showarrow\": false, \"text\": \"586.1\", \"x\": 0.55, \"xanchor\": \"left\", \"xref\": \"x\", \"y\": 5, \"yref\": \"y\"}], \"height\": 230, \"margin\": {\"b\": 0, \"l\": 0, \"r\": 0, \"t\": 0}, \"xaxis\": {\"dtick\": 1, \"gridwidth\": 2, \"showticklabels\": false, \"tick0\": -0.5, \"ticks\": \"\", \"zeroline\": false}, \"yaxis\": {\"autorange\": \"reversed\", \"dtick\": 1, \"gridwidth\": 2, \"showticklabels\": false, \"tick0\": 0.5, \"ticks\": \"\", \"zeroline\": false}}, {\"showLink\": true, \"linkText\": \"Export to plot.ly\"})});</script>"
      ]
     },
     "metadata": {},
     "output_type": "display_data"
    }
   ],
   "source": [
    "#plot using plotly\n",
    "from plotly import __version__\n",
    "from plotly.offline import download_plotlyjs, init_notebook_mode, plot, iplot\n",
    "import plotly.graph_objs as go\n",
    "import plotly.figure_factory as ff\n",
    "init_notebook_mode(connected=True)\n",
    "\n",
    "\n",
    "table = ff.create_table(trip)\n",
    "plot(table, filename='Trip_distance.html')\n",
    "iplot(table, filename='Trip_distance')"
   ]
  },
  {
   "cell_type": "code",
   "execution_count": null,
   "metadata": {},
   "outputs": [],
   "source": []
  }
 ],
 "metadata": {
  "kernelspec": {
   "display_name": "Python 3",
   "language": "python",
   "name": "python3"
  },
  "language_info": {
   "codemirror_mode": {
    "name": "ipython",
    "version": 3
   },
   "file_extension": ".py",
   "mimetype": "text/x-python",
   "name": "python",
   "nbconvert_exporter": "python",
   "pygments_lexer": "ipython3",
   "version": "3.6.4"
  }
 },
 "nbformat": 4,
 "nbformat_minor": 2
}
